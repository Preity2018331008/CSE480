{
  "nbformat": 4,
  "nbformat_minor": 0,
  "metadata": {
    "colab": {
      "provenance": []
    },
    "kernelspec": {
      "name": "python3",
      "display_name": "Python 3"
    },
    "language_info": {
      "name": "python"
    }
  },
  "cells": [
    {
      "cell_type": "code",
      "source": [
        "!pip install qiskit==0.43.0"
      ],
      "metadata": {
        "colab": {
          "base_uri": "https://localhost:8080/",
          "height": 1000
        },
        "id": "TzQKq-JVMdXd",
        "outputId": "40baf780-91c7-44a4-bd2e-ae165da2c897"
      },
      "execution_count": null,
      "outputs": [
        {
          "output_type": "stream",
          "name": "stdout",
          "text": [
            "Collecting qiskit==0.43.0\n",
            "  Downloading qiskit-0.43.0.tar.gz (10.0 kB)\n",
            "  Installing build dependencies ... \u001b[?25l\u001b[?25hdone\n",
            "  Getting requirements to build wheel ... \u001b[?25l\u001b[?25hdone\n",
            "  Installing backend dependencies ... \u001b[?25l\u001b[?25hdone\n",
            "  Preparing metadata (pyproject.toml) ... \u001b[?25l\u001b[?25hdone\n",
            "Collecting qiskit-terra==0.24.0 (from qiskit==0.43.0)\n",
            "  Downloading qiskit_terra-0.24.0-cp310-cp310-manylinux_2_17_x86_64.manylinux2014_x86_64.whl (5.9 MB)\n",
            "\u001b[2K     \u001b[90m━━━━━━━━━━━━━━━━━━━━━━━━━━━━━━━━━━━━━━━━\u001b[0m \u001b[32m5.9/5.9 MB\u001b[0m \u001b[31m16.2 MB/s\u001b[0m eta \u001b[36m0:00:00\u001b[0m\n",
            "\u001b[?25hCollecting qiskit-aer==0.12.0 (from qiskit==0.43.0)\n",
            "  Downloading qiskit_aer-0.12.0-cp310-cp310-manylinux_2_17_x86_64.manylinux2014_x86_64.whl (12.8 MB)\n",
            "\u001b[2K     \u001b[90m━━━━━━━━━━━━━━━━━━━━━━━━━━━━━━━━━━━━━━━━\u001b[0m \u001b[32m12.8/12.8 MB\u001b[0m \u001b[31m38.7 MB/s\u001b[0m eta \u001b[36m0:00:00\u001b[0m\n",
            "\u001b[?25hCollecting qiskit-ibmq-provider==0.20.2 (from qiskit==0.43.0)\n",
            "  Downloading qiskit_ibmq_provider-0.20.2-py3-none-any.whl (241 kB)\n",
            "\u001b[2K     \u001b[90m━━━━━━━━━━━━━━━━━━━━━━━━━━━━━━━━━━━━━━━━\u001b[0m \u001b[32m241.5/241.5 kB\u001b[0m \u001b[31m23.0 MB/s\u001b[0m eta \u001b[36m0:00:00\u001b[0m\n",
            "\u001b[?25hRequirement already satisfied: numpy>=1.16.3 in /usr/local/lib/python3.10/dist-packages (from qiskit-aer==0.12.0->qiskit==0.43.0) (1.25.2)\n",
            "Requirement already satisfied: scipy>=1.0 in /usr/local/lib/python3.10/dist-packages (from qiskit-aer==0.12.0->qiskit==0.43.0) (1.11.4)\n",
            "Requirement already satisfied: requests>=2.19 in /usr/local/lib/python3.10/dist-packages (from qiskit-ibmq-provider==0.20.2->qiskit==0.43.0) (2.31.0)\n",
            "Collecting requests-ntlm<=1.1.0 (from qiskit-ibmq-provider==0.20.2->qiskit==0.43.0)\n",
            "  Downloading requests_ntlm-1.1.0-py2.py3-none-any.whl (5.7 kB)\n",
            "Collecting numpy>=1.16.3 (from qiskit-aer==0.12.0->qiskit==0.43.0)\n",
            "  Downloading numpy-1.23.5-cp310-cp310-manylinux_2_17_x86_64.manylinux2014_x86_64.whl (17.1 MB)\n",
            "\u001b[2K     \u001b[90m━━━━━━━━━━━━━━━━━━━━━━━━━━━━━━━━━━━━━━━━\u001b[0m \u001b[32m17.1/17.1 MB\u001b[0m \u001b[31m49.5 MB/s\u001b[0m eta \u001b[36m0:00:00\u001b[0m\n",
            "\u001b[?25hRequirement already satisfied: urllib3>=1.21.1 in /usr/local/lib/python3.10/dist-packages (from qiskit-ibmq-provider==0.20.2->qiskit==0.43.0) (2.0.7)\n",
            "Requirement already satisfied: python-dateutil>=2.8.0 in /usr/local/lib/python3.10/dist-packages (from qiskit-ibmq-provider==0.20.2->qiskit==0.43.0) (2.8.2)\n",
            "Requirement already satisfied: websocket-client>=1.5.1 in /usr/local/lib/python3.10/dist-packages (from qiskit-ibmq-provider==0.20.2->qiskit==0.43.0) (1.7.0)\n",
            "Collecting websockets>=10.0 (from qiskit-ibmq-provider==0.20.2->qiskit==0.43.0)\n",
            "  Downloading websockets-12.0-cp310-cp310-manylinux_2_5_x86_64.manylinux1_x86_64.manylinux_2_17_x86_64.manylinux2014_x86_64.whl (130 kB)\n",
            "\u001b[2K     \u001b[90m━━━━━━━━━━━━━━━━━━━━━━━━━━━━━━━━━━━━━━━━\u001b[0m \u001b[32m130.2/130.2 kB\u001b[0m \u001b[31m15.9 MB/s\u001b[0m eta \u001b[36m0:00:00\u001b[0m\n",
            "\u001b[?25hCollecting rustworkx>=0.12.0 (from qiskit-terra==0.24.0->qiskit==0.43.0)\n",
            "  Downloading rustworkx-0.14.1-cp310-cp310-manylinux_2_17_x86_64.manylinux2014_x86_64.whl (2.1 MB)\n",
            "\u001b[2K     \u001b[90m━━━━━━━━━━━━━━━━━━━━━━━━━━━━━━━━━━━━━━━━\u001b[0m \u001b[32m2.1/2.1 MB\u001b[0m \u001b[31m73.6 MB/s\u001b[0m eta \u001b[36m0:00:00\u001b[0m\n",
            "\u001b[?25hCollecting ply>=3.10 (from qiskit-terra==0.24.0->qiskit==0.43.0)\n",
            "  Downloading ply-3.11-py2.py3-none-any.whl (49 kB)\n",
            "\u001b[2K     \u001b[90m━━━━━━━━━━━━━━━━━━━━━━━━━━━━━━━━━━━━━━━━\u001b[0m \u001b[32m49.6/49.6 kB\u001b[0m \u001b[31m4.3 MB/s\u001b[0m eta \u001b[36m0:00:00\u001b[0m\n",
            "\u001b[?25hRequirement already satisfied: psutil>=5 in /usr/local/lib/python3.10/dist-packages (from qiskit-terra==0.24.0->qiskit==0.43.0) (5.9.5)\n",
            "Requirement already satisfied: sympy>=1.3 in /usr/local/lib/python3.10/dist-packages (from qiskit-terra==0.24.0->qiskit==0.43.0) (1.12)\n",
            "Collecting dill>=0.3 (from qiskit-terra==0.24.0->qiskit==0.43.0)\n",
            "  Downloading dill-0.3.8-py3-none-any.whl (116 kB)\n",
            "\u001b[2K     \u001b[90m━━━━━━━━━━━━━━━━━━━━━━━━━━━━━━━━━━━━━━━━\u001b[0m \u001b[32m116.3/116.3 kB\u001b[0m \u001b[31m14.3 MB/s\u001b[0m eta \u001b[36m0:00:00\u001b[0m\n",
            "\u001b[?25hCollecting stevedore>=3.0.0 (from qiskit-terra==0.24.0->qiskit==0.43.0)\n",
            "  Downloading stevedore-5.2.0-py3-none-any.whl (49 kB)\n",
            "\u001b[2K     \u001b[90m━━━━━━━━━━━━━━━━━━━━━━━━━━━━━━━━━━━━━━━━\u001b[0m \u001b[32m49.7/49.7 kB\u001b[0m \u001b[31m5.2 MB/s\u001b[0m eta \u001b[36m0:00:00\u001b[0m\n",
            "\u001b[?25hCollecting symengine<0.10,>=0.9 (from qiskit-terra==0.24.0->qiskit==0.43.0)\n",
            "  Downloading symengine-0.9.2-cp310-cp310-manylinux2010_x86_64.whl (37.5 MB)\n",
            "\u001b[2K     \u001b[90m━━━━━━━━━━━━━━━━━━━━━━━━━━━━━━━━━━━━━━━━\u001b[0m \u001b[32m37.5/37.5 MB\u001b[0m \u001b[31m14.9 MB/s\u001b[0m eta \u001b[36m0:00:00\u001b[0m\n",
            "\u001b[?25hRequirement already satisfied: six>=1.5 in /usr/local/lib/python3.10/dist-packages (from python-dateutil>=2.8.0->qiskit-ibmq-provider==0.20.2->qiskit==0.43.0) (1.16.0)\n",
            "Requirement already satisfied: charset-normalizer<4,>=2 in /usr/local/lib/python3.10/dist-packages (from requests>=2.19->qiskit-ibmq-provider==0.20.2->qiskit==0.43.0) (3.3.2)\n",
            "Requirement already satisfied: idna<4,>=2.5 in /usr/local/lib/python3.10/dist-packages (from requests>=2.19->qiskit-ibmq-provider==0.20.2->qiskit==0.43.0) (3.6)\n",
            "Requirement already satisfied: certifi>=2017.4.17 in /usr/local/lib/python3.10/dist-packages (from requests>=2.19->qiskit-ibmq-provider==0.20.2->qiskit==0.43.0) (2024.2.2)\n",
            "Collecting ntlm-auth>=1.0.2 (from requests-ntlm<=1.1.0->qiskit-ibmq-provider==0.20.2->qiskit==0.43.0)\n",
            "  Downloading ntlm_auth-1.5.0-py2.py3-none-any.whl (29 kB)\n",
            "Requirement already satisfied: cryptography>=1.3 in /usr/local/lib/python3.10/dist-packages (from requests-ntlm<=1.1.0->qiskit-ibmq-provider==0.20.2->qiskit==0.43.0) (42.0.3)\n",
            "Collecting pbr!=2.1.0,>=2.0.0 (from stevedore>=3.0.0->qiskit-terra==0.24.0->qiskit==0.43.0)\n",
            "  Downloading pbr-6.0.0-py2.py3-none-any.whl (107 kB)\n",
            "\u001b[2K     \u001b[90m━━━━━━━━━━━━━━━━━━━━━━━━━━━━━━━━━━━━━━━━\u001b[0m \u001b[32m107.5/107.5 kB\u001b[0m \u001b[31m11.9 MB/s\u001b[0m eta \u001b[36m0:00:00\u001b[0m\n",
            "\u001b[?25hRequirement already satisfied: mpmath>=0.19 in /usr/local/lib/python3.10/dist-packages (from sympy>=1.3->qiskit-terra==0.24.0->qiskit==0.43.0) (1.3.0)\n",
            "Requirement already satisfied: cffi>=1.12 in /usr/local/lib/python3.10/dist-packages (from cryptography>=1.3->requests-ntlm<=1.1.0->qiskit-ibmq-provider==0.20.2->qiskit==0.43.0) (1.16.0)\n",
            "Requirement already satisfied: pycparser in /usr/local/lib/python3.10/dist-packages (from cffi>=1.12->cryptography>=1.3->requests-ntlm<=1.1.0->qiskit-ibmq-provider==0.20.2->qiskit==0.43.0) (2.21)\n",
            "Building wheels for collected packages: qiskit\n",
            "  Building wheel for qiskit (pyproject.toml) ... \u001b[?25l\u001b[?25hdone\n",
            "  Created wheel for qiskit: filename=qiskit-0.43.0-py3-none-any.whl size=7991 sha256=f7897985efca1664fcba99b6505e08bca3a36c854080aeb6a275edfa201fc623\n",
            "  Stored in directory: /root/.cache/pip/wheels/11/fe/bc/59531707126e693bad48c61c0b86f3870b49f8f7ad49c18209\n",
            "Successfully built qiskit\n",
            "Installing collected packages: ply, websockets, symengine, pbr, numpy, ntlm-auth, dill, stevedore, rustworkx, requests-ntlm, qiskit-terra, qiskit-ibmq-provider, qiskit-aer, qiskit\n",
            "  Attempting uninstall: numpy\n",
            "    Found existing installation: numpy 1.25.2\n",
            "    Uninstalling numpy-1.25.2:\n",
            "      Successfully uninstalled numpy-1.25.2\n",
            "\u001b[31mERROR: pip's dependency resolver does not currently take into account all the packages that are installed. This behaviour is the source of the following dependency conflicts.\n",
            "chex 0.1.85 requires numpy>=1.24.1, but you have numpy 1.23.5 which is incompatible.\u001b[0m\u001b[31m\n",
            "\u001b[0mSuccessfully installed dill-0.3.8 ntlm-auth-1.5.0 numpy-1.23.5 pbr-6.0.0 ply-3.11 qiskit-0.43.0 qiskit-aer-0.12.0 qiskit-ibmq-provider-0.20.2 qiskit-terra-0.24.0 requests-ntlm-1.1.0 rustworkx-0.14.1 stevedore-5.2.0 symengine-0.9.2 websockets-12.0\n"
          ]
        },
        {
          "output_type": "display_data",
          "data": {
            "application/vnd.colab-display-data+json": {
              "pip_warning": {
                "packages": [
                  "numpy"
                ]
              }
            }
          },
          "metadata": {}
        }
      ]
    },
    {
      "cell_type": "code",
      "source": [
        "!pip show qiskit"
      ],
      "metadata": {
        "colab": {
          "base_uri": "https://localhost:8080/"
        },
        "id": "UtE5x0HXMNzP",
        "outputId": "7729646d-59aa-4968-b1a5-c76062a62061"
      },
      "execution_count": null,
      "outputs": [
        {
          "output_type": "stream",
          "name": "stdout",
          "text": [
            "Name: qiskit\n",
            "Version: 0.43.0\n",
            "Summary: Software for developing quantum computing programs\n",
            "Home-page: https://qiskit.org/\n",
            "Author: Qiskit Development Team\n",
            "Author-email: hello@qiskit.org\n",
            "License: Apache 2.0\n",
            "Location: /usr/local/lib/python3.10/dist-packages\n",
            "Requires: qiskit-aer, qiskit-ibmq-provider, qiskit-terra\n",
            "Required-by: \n"
          ]
        }
      ]
    },
    {
      "cell_type": "code",
      "source": [
        "import matplotlib.pyplot as plt\n",
        "import numpy as np\n",
        "from IPython.display import display, Math\n",
        "\n",
        "from qiskit.opflow import I, Z\n",
        "# from qiskit.circuit.library import RealAmplitudes\n",
        "from qiskit.circuit.library import NLocal, CCXGate, CRZGate, RXGate, TwoLocal, EfficientSU2, RealAmplitudes, QAOAAnsatz\n",
        "from qiskit.algorithms.optimizers import COBYLA\n",
        "from qiskit.algorithms import NumPyMinimumEigensolver\n",
        "from qiskit.algorithms.minimum_eigensolvers import SamplingVQE\n",
        "from qiskit import execute, Aer\n",
        "from qiskit.primitives import Sampler"
      ],
      "metadata": {
        "colab": {
          "base_uri": "https://localhost:8080/"
        },
        "id": "JQhgFJYh0d0B",
        "outputId": "f669e409-d0dd-4390-cafb-a7e4c085f408"
      },
      "execution_count": null,
      "outputs": [
        {
          "output_type": "stream",
          "name": "stderr",
          "text": [
            "<ipython-input-2-533ea895dd21>:5: DeprecationWarning: The ``qiskit.opflow`` module is deprecated as of qiskit-terra 0.24.0. It will be removed no earlier than 3 months after the release date. For code migration guidelines, visit https://qisk.it/opflow_migration.\n",
            "  from qiskit.opflow import I, Z\n"
          ]
        }
      ]
    },
    {
      "cell_type": "code",
      "source": [
        "class VQE:\n",
        "    def __init__(self):\n",
        "        self.counts = []\n",
        "        self.values = []\n",
        "\n",
        "    def store_intermediate_result(self, eval_count, parameters, mean, std):\n",
        "        self.counts.append(eval_count)\n",
        "        self.values.append(mean)\n",
        "\n",
        "    def get_vqe(self):\n",
        "        self.counts = []\n",
        "        self.values = []\n",
        "        vqe = SamplingVQE(\n",
        "            Sampler(),\n",
        "            ansatz=EfficientSU2(4, reps = 1),\n",
        "            optimizer=COBYLA(maxiter=45),\n",
        "            aggregation=0.10,\n",
        "            callback=self.store_intermediate_result,\n",
        "        )\n",
        "        return vqe\n",
        "\n",
        "    def plot_graph(self):\n",
        "        fig = plt.figure()\n",
        "\n",
        "        plt.plot(self.counts, self.values)\n",
        "        plt.ylabel(\"Conformation Energy\")\n",
        "        plt.xlabel(\"VQE Iterations\")\n",
        "\n",
        "        # fig.add_axes([0.44, 0.51, 0.44, 0.32])\n",
        "        # plt.plot(counts[35:], values[35:])\n",
        "\n",
        "        plt.ylabel(\"Conformation Energy\")\n",
        "        plt.xlabel(\"VQE Iterations\")\n",
        "        plt.show()"
      ],
      "metadata": {
        "id": "rm769BMcFiEQ"
      },
      "execution_count": null,
      "outputs": []
    },
    {
      "cell_type": "code",
      "source": [
        "class EnergyTerm:\n",
        "    def __init__(self, coefficient, indices):\n",
        "        self.coefficient = coefficient\n",
        "        self.indices = sorted(indices)\n",
        "\n",
        "    def __mul__(self, other):\n",
        "        new_coefficient = self.coefficient * other.coefficient\n",
        "        new_indices = sorted(list(set(self.indices + other.indices)))\n",
        "        return EnergyTerm(new_coefficient, new_indices)\n",
        "    def print(self):\n",
        "        print(\"(\", self.coefficient, \",\", self.indices, \")\")"
      ],
      "metadata": {
        "id": "s-WjygVIQQvw"
      },
      "execution_count": null,
      "outputs": []
    },
    {
      "cell_type": "code",
      "source": [
        "class Energy:\n",
        "    def __init__(self):\n",
        "        self.terms = []\n",
        "\n",
        "    def add_term(self, term_object):\n",
        "        for term in self.terms:\n",
        "            if term.indices == term_object.indices:\n",
        "                term.coefficient += term_object.coefficient\n",
        "                self.delete_zero_coefficients()\n",
        "                return\n",
        "        self.terms.append(term_object)\n",
        "\n",
        "    def __add__(self, other):\n",
        "        new_energy = self.copy()\n",
        "        for term in other.terms:\n",
        "            new_energy.add_term(term)\n",
        "        new_energy.delete_zero_coefficients()\n",
        "        return new_energy\n",
        "\n",
        "    def scale(self, m):\n",
        "        self.terms = [EnergyTerm(term.coefficient * m, term.indices) for term in self.terms]\n",
        "\n",
        "    def delete_zero_coefficients(self):\n",
        "        self.terms = [term for term in self.terms if term.coefficient != 0]\n",
        "\n",
        "    def __sub__(self, other):\n",
        "        new_energy = self.copy()\n",
        "        for term in other.terms:\n",
        "            new_energy.add_term(EnergyTerm(-term.coefficient, term.indices))\n",
        "        new_energy.delete_zero_coefficients()\n",
        "        return new_energy\n",
        "\n",
        "    def __mul__(self, other):\n",
        "        new_energy = Energy()\n",
        "        for term1 in self.terms:\n",
        "            for term2 in other.terms:\n",
        "                new_term = term1 * term2\n",
        "                new_energy.add_term(new_term)\n",
        "        return new_energy\n",
        "\n",
        "    def square(self):\n",
        "        return self * self\n",
        "\n",
        "    def print(self):\n",
        "        for term in self.terms:\n",
        "            term.print()\n",
        "\n",
        "    def copy(self):\n",
        "        E = Energy()\n",
        "        E.terms = self.terms.copy()\n",
        "        return E"
      ],
      "metadata": {
        "id": "4am6F0Y6TF7z"
      },
      "execution_count": null,
      "outputs": []
    },
    {
      "cell_type": "code",
      "source": [
        "class ProteinFolding:\n",
        "    def __init__(self, protein, penalty_overlap=3000, interaction_energy=-10):\n",
        "        self.vqe = VQE()\n",
        "        self.protein = protein\n",
        "        self.N = len(protein)\n",
        "        self.penalty_overlap = penalty_overlap\n",
        "        self.interaction_energy = interaction_energy\n",
        "        self.turn_qubit = 2 * self.N - 5\n",
        "        self.ancilla_qubit = self.count_ancilla_bits()\n",
        "        self.energy_back = None\n",
        "        self.energy_overlap = None\n",
        "        self.energy_pair = None\n",
        "        self.energy_equation = None\n",
        "        # self.derive_energy_equations()\n",
        "\n",
        "    def meu(self, i, j):\n",
        "        if i <= j:\n",
        "            return 0\n",
        "        d = i - j\n",
        "        cnt = 0\n",
        "        cur = 1\n",
        "        while cur < d:\n",
        "            cur *= 2\n",
        "            cnt += 1\n",
        "        cnt *= 2\n",
        "        cnt *= (1 + i - j) % 2\n",
        "        return cnt\n",
        "\n",
        "    def count_slack_variable(self):\n",
        "        cnt = 0\n",
        "        for i in range(1, self.N - 4 + 1):\n",
        "            for j in range(i + 4, self.N + 1):\n",
        "                cnt += (1 + j + i) % 2\n",
        "        return cnt\n",
        "\n",
        "    def count_ancilla_bits(self):\n",
        "        cnt = 0\n",
        "        for i in range(1, self.N - 4 + 1):\n",
        "            for j in range(i + 4, self.N + 1):\n",
        "                cnt += self.meu(j, i)\n",
        "        return cnt\n",
        "\n",
        "    def dx_p(self, j):\n",
        "        cur = Energy()\n",
        "        cur.add_term(EnergyTerm(1, [2 * j - 3]))\n",
        "        cur.add_term(EnergyTerm(-1, [2 * j - 3, 2 * j - 4]))\n",
        "        return cur\n",
        "\n",
        "    def dx_n(self, j):\n",
        "        cur = Energy()\n",
        "        cur.add_term(EnergyTerm(1, [2 * j - 4]))\n",
        "        cur.add_term(EnergyTerm(-1, [2 * j - 3, 2 * j - 4]))\n",
        "        return cur\n",
        "\n",
        "    def dy_p(self, j):\n",
        "        cur = Energy()\n",
        "        cur.add_term(EnergyTerm(1, [2 * j - 3, 2 * j - 4]))\n",
        "        return cur\n",
        "\n",
        "    def dy_n(self, j):\n",
        "        cur = Energy()\n",
        "        cur.add_term(EnergyTerm(1, []))\n",
        "        cur.add_term(EnergyTerm(-1, [2 * j - 3]))\n",
        "        cur.add_term(EnergyTerm(-1, [2 * j - 4]))\n",
        "        cur.add_term(EnergyTerm(1, [2 * j - 3, 2 * j - 4]))\n",
        "        return cur\n",
        "\n",
        "    def back_turn(self, j):\n",
        "        if j == 1:\n",
        "            return Energy()\n",
        "        if j == 2:\n",
        "            cur = Energy()\n",
        "            cur.add_term(EnergyTerm(1, [1, 2]))\n",
        "            cur.add_term(EnergyTerm(1, [2, 3]))\n",
        "            cur.add_term(EnergyTerm(-2, [1, 2, 3]))\n",
        "            return cur\n",
        "\n",
        "        return (self.dx_p(j) * self.dx_n(j + 1)) + (self.dx_n(j) * self.dx_p(j + 1)) + (self.dy_p(j) * self.dy_n(j + 1)) + (self.dy_n(j) * self.dy_p(j + 1))\n",
        "\n",
        "    def get_x(self, n):\n",
        "        x = Energy()\n",
        "        if n == 1:\n",
        "            return x\n",
        "\n",
        "        x.add_term(EnergyTerm(1, []))\n",
        "        cof = 1\n",
        "        for i in range(1, 2 * (n - 2)):\n",
        "            x.add_term(EnergyTerm(cof, [i]))\n",
        "            cof *= -1\n",
        "        return x\n",
        "\n",
        "    def get_y(self, n):\n",
        "        y = Energy()\n",
        "        if n < 3:\n",
        "            return y\n",
        "\n",
        "        y.add_term(EnergyTerm(-(n - 2), []))\n",
        "        for i in range(1, 2 * (n - 2)):\n",
        "            y.add_term(EnergyTerm(1, [i]))\n",
        "        return y\n",
        "\n",
        "    def get_g(self, i, j):\n",
        "        return (self.get_x(i) - self.get_x(j)).square() + (self.get_y(i) - self.get_y(j)).square()\n",
        "\n",
        "    def get_c(self, n, m):\n",
        "        cnt = 2 * self.N - 4\n",
        "        for i in range(3, n):\n",
        "            for j in range(1, i - 4 + 1):\n",
        "                cnt += self.meu(i, j)\n",
        "        for i in range(1, m):\n",
        "            cnt += self.meu(n, i)\n",
        "        return cnt\n",
        "\n",
        "    def alpha(self, i, j):\n",
        "        E = Energy()\n",
        "        c_ij = self.get_c(i, j)\n",
        "        for k in range(0, self.meu(i, j)):\n",
        "            E.add_term(EnergyTerm(2**k, [c_ij + k]))\n",
        "        return E\n",
        "\n",
        "    def gamma(self, i, j):\n",
        "        E = Energy()\n",
        "        E.add_term(EnergyTerm(2**self.meu(i, j), []))\n",
        "        E -= self.get_g(i, j)\n",
        "        E -= self.alpha(i, j)\n",
        "        E *= E\n",
        "        return E\n",
        "\n",
        "    def build_energy_back(self):\n",
        "        E = Energy()\n",
        "        for j in range(2, self.N - 1):\n",
        "            E += self.back_turn(j)\n",
        "        # E.scale(self.penalty_overlap)\n",
        "        return E.copy()\n",
        "\n",
        "    def build_energy_overlap(self):\n",
        "        E = Energy()\n",
        "        for i in range(1, self.N - 4 + 1):\n",
        "            for j in range(i + 4, self.N + 1):\n",
        "                if (1 + i + j) % 2 == 1:\n",
        "                    E += self.gamma(j, i)\n",
        "        return E\n",
        "\n",
        "    def build_energy_pair(self):\n",
        "        E = Energy()\n",
        "        for i in range(1, self.N):\n",
        "            for j in range(i + 3, self.N + 1):\n",
        "                if self.protein[i - 1] == 'H' and self.protein[j - 1] == 'H' and (i + j) % 2 == 1:\n",
        "                    E.add_term(EnergyTerm(2, []))\n",
        "                    E -= self.get_g(i, j)\n",
        "                    # print(\"interaction \", i, j)\n",
        "\n",
        "        # E.scale(self.interaction_energy)\n",
        "        return E\n",
        "\n",
        "    def build_energy_equation(self):\n",
        "        E = Energy()\n",
        "        # E += self.energy_back\n",
        "        # E += self.energy_overlap\n",
        "        # E += self.energy_pair\n",
        "        back = self.build_energy_back()\n",
        "        overlap = self.build_energy_overlap()\n",
        "        pair = self.build_energy_pair()\n",
        "        back.scale(self.penalty_overlap)\n",
        "        overlap.scale(self.penalty_overlap)\n",
        "        pair.scale(self.interaction_energy)\n",
        "        E = back + overlap + pair\n",
        "        return E\n",
        "\n",
        "    def derive_energy_equations(self):\n",
        "        self.energy_back = self.build_energy_back()\n",
        "        self.energy_overlap = self.build_energy_overlap()\n",
        "        self.energy_pair = self.build_energy_pair()\n",
        "        self.energy_equation = self.build_energy_equation()\n",
        "\n",
        "    def get_energy_back(self):\n",
        "        if self.energy_back == None:\n",
        "            self.derive_energy_equations()\n",
        "        return self.energy_back\n",
        "\n",
        "    def get_energy_overlap(self):\n",
        "        if self.energy_overlap == None:\n",
        "            self.derive_energy_equations()\n",
        "        return self.energy_overlap\n",
        "\n",
        "    def get_energy_pair(self):\n",
        "        if self.energy_pair == None:\n",
        "            self.derive_energy_equations()\n",
        "        return self.energy_pair\n",
        "\n",
        "    def equation_to_latex(self, equation):\n",
        "        latex_equation = r\"\" #\"$\"\n",
        "        f = 0\n",
        "        for term in equation.terms:\n",
        "            coefficient = term.coefficient\n",
        "            indices = term.indices\n",
        "\n",
        "            if f == 1 and coefficient > 0:\n",
        "                latex_equation += \" + \"\n",
        "            elif f == 1 and coefficient < 0:\n",
        "                latex_equation += \" - \"\n",
        "            f = 1\n",
        "\n",
        "            if coefficient != 1:\n",
        "                latex_equation += str(abs(coefficient))\n",
        "\n",
        "            for index in indices:\n",
        "                if index < 10:\n",
        "                   latex_equation += f\"q_{index}\"\n",
        "                else:\n",
        "                    latex_equation += f\"q_{{{'{:02d}'.format(index)}}}\"\n",
        "\n",
        "        latex_equation += \"\" # \"$\"\n",
        "\n",
        "        # display(Math(latex_equation))\n",
        "        return latex_equation\n",
        "\n",
        "    def display_energy_back(self):\n",
        "        energy_back_latex = self.equation_to_latex(self.build_energy_back())\n",
        "        styled_equation = f\"$E_{{\\mathrm{{back}}}} = {self.penalty_overlap} \\\\times ({energy_back_latex})$\"\n",
        "        display(Math(styled_equation))\n",
        "\n",
        "    def display_energy_overlap(self):\n",
        "        energy_overlap_latex = self.equation_to_latex(self.build_energy_overlap())\n",
        "        styled_equation = f\"$E_{{\\mathrm{{overlap}}}} = {self.penalty_overlap} \\\\times ({energy_overlap_latex})$\"\n",
        "        display(Math(styled_equation))\n",
        "\n",
        "    def display_energy_pair(self):\n",
        "        energy_pair_latex = self.equation_to_latex(self.build_energy_pair())\n",
        "        styled_equation = f\"$E_{{\\mathrm{{pair}}}} = {self.interaction_energy} \\\\times ({energy_pair_latex})$\"\n",
        "        display(Math(styled_equation))\n",
        "\n",
        "    def display_energy_equation(self):\n",
        "        energy_equation_latex = self.equation_to_latex(self.build_energy_equation())\n",
        "        styled_equation = f\"$E_{{\\mathrm{{overll}}}} = {energy_equation_latex}$\"\n",
        "        display(Math(styled_equation))\n",
        "\n",
        "    def get_operator_term(self, num_qubits, q_indices): # 1 based index\n",
        "        q = 0.5 * (I - Z)\n",
        "\n",
        "        new_indices = [x - 1 for x in q_indices] # make 0 based index\n",
        "        if 0 in new_indices:\n",
        "            operator = q\n",
        "        else:\n",
        "            operator = I\n",
        "        for i in range(1, num_qubits):\n",
        "            if i in new_indices:\n",
        "                operator = q ^ operator\n",
        "            else:\n",
        "                operator = I ^ operator\n",
        "\n",
        "        return operator\n",
        "\n",
        "    def get_hamiltonian(self):\n",
        "        H = 0\n",
        "        num_qubits = self.turn_qubit + self.ancilla_qubit\n",
        "        print(\"Total qubit: \", num_qubits)\n",
        "        energy_equation = self.build_energy_equation()\n",
        "        for term in energy_equation.terms:\n",
        "            term_value = term.coefficient * self.get_operator_term(num_qubits, term.indices)\n",
        "            H += term_value\n",
        "        # print(\"Hamiltonian (H):\", H)\n",
        "        return H\n",
        "\n",
        "    def get_direction(self, raw_result):\n",
        "        #probs = raw_result.eigenstate.binary_probabilities()\n",
        "        #best_turn_sequence = max(probs, key=probs.get)\n",
        "        #dir = \"010\" + best_turn_sequence[::-1]\n",
        "        dir = \"010\" + raw_result.best_measurement['bitstring'][::-1]\n",
        "        return dir\n",
        "\n",
        "    def plot_protein_stylishly(self, direction_string):\n",
        "        # Initialize grid and positions\n",
        "        grid = 20\n",
        "        spacing = 5\n",
        "        # x, y = (grid) // 2, (grid) // 2\n",
        "        x, y = 0, 5\n",
        "        positions = [(x, y)]\n",
        "\n",
        "        # Place amino acids on grid according to directions\n",
        "        for i in range(self.N - 1):\n",
        "            direction = direction_string[2 * i : 2 * i + 2]\n",
        "            if direction == \"00\":\n",
        "                y -= spacing\n",
        "            elif direction == \"11\":\n",
        "                y += spacing\n",
        "            elif direction == \"10\":\n",
        "                x -= spacing\n",
        "            elif direction == \"01\":\n",
        "                x += spacing\n",
        "            positions.append((x, y))\n",
        "\n",
        "        # Create plot\n",
        "        plt.figure(figsize=(8, 8))\n",
        "        ax = plt.gca()\n",
        "        ax.set_aspect('equal', adjustable='box')\n",
        "        plt.grid(which='both', linestyle='-', linewidth=2, alpha=0.5)\n",
        "\n",
        "        # Plot solid lines between adjacent amino acids\n",
        "        for i, (x, y) in enumerate(positions[:-1]):\n",
        "            x_next, y_next = positions[i + 1]\n",
        "            plt.plot([x, x_next], [y, y_next], linestyle=\"-\", color=\"black\", alpha=0.7, linewidth=2)\n",
        "\n",
        "        # Plot individual amino acids as circles\n",
        "        for i, (x, y) in enumerate(positions):\n",
        "            color = \"red\" if self.protein[i] == \"H\" else \"green\"\n",
        "            plt.plot(x, y, marker='o', markersize=20, markeredgecolor='black', color=color, alpha=0.7)\n",
        "            plt.text(x, y, self.protein[i], color='white', fontsize=15, fontweight='bold', ha='center', va='center')\n",
        "\n",
        "        # Plot dotted lines for interactions\n",
        "        for i in range(self.N):\n",
        "            for j in range(i + 1, self.N):\n",
        "                x1, y1 = positions[i]\n",
        "                x2, y2 = positions[j]\n",
        "                if self.protein[i] == \"H\" and self.protein[j] == \"H\":\n",
        "                    if abs(x1 - x2) == spacing and abs(y1 - y2) == 0:\n",
        "                        plt.plot([x1, x2], [y1, y2], linestyle=\"--\", color=\"gray\", alpha=0.5, linewidth=2)\n",
        "                    if abs(x1 - x2) == 0 and abs(y1 - y2) == spacing:\n",
        "                        plt.plot([x1, x2], [y1, y2], linestyle=\"--\", color=\"blue\", alpha=0.5, linewidth=2)\n",
        "\n",
        "        plt.xlim([-grid, grid])\n",
        "        plt.ylim([-grid, grid])\n",
        "        plt.show()\n",
        "\n",
        "    def get_vqe(self):\n",
        "        return self.vqe.get_vqe()\n",
        "\n",
        "    def get_fold(self):\n",
        "        H = self.get_hamiltonian()\n",
        "        raw_result = self.get_vqe().compute_minimum_eigenvalue(H)\n",
        "        turn_sequence = self.get_direction(raw_result)\n",
        "        print(\"Turn sequence: \", turn_sequence[0: 2 * self.N - 2])\n",
        "        # print_energy(turn_sequence)\n",
        "\n",
        "        print(\"Protein = \", self.protein)\n",
        "        self.plot_protein_stylishly(turn_sequence)\n",
        "\n",
        "    def print_summary(self):\n",
        "        print(\"Protein = \", self.protein)\n",
        "        print(\"Amino acid beads, N = \", self.N)\n",
        "        print(\"Total qubit: \", self.turn_qubit + self.ancilla_qubit)\n",
        "        print(\"Number of terms in energy equation: \", len(self.build_energy_equation().terms))\n",
        "\n",
        "    def plot_graph(self):\n",
        "        self.vqe.plot_graph()"
      ],
      "metadata": {
        "id": "seZpUY7cJ7-B"
      },
      "execution_count": null,
      "outputs": []
    },
    {
      "cell_type": "code",
      "source": [
        "obj = ProteinFolding(protein = \"HPHHPH\")\n",
        "# obj = ProteinFolding(protein = \"HPPHHH\", penalty_overlap=3000, interaction_energy= -10)\n",
        "# obj = ProteinFolding(protein = \"HPHPHPH\", penalty_overlap=3000, interaction_energy= -10)"
      ],
      "metadata": {
        "id": "cxrTexlhkmku"
      },
      "execution_count": null,
      "outputs": []
    },
    {
      "cell_type": "code",
      "source": [
        "obj.print_summary()"
      ],
      "metadata": {
        "colab": {
          "base_uri": "https://localhost:8080/"
        },
        "id": "4vysPZ1eQpb8",
        "outputId": "c0398bff-9f2a-4af5-f911-a6ba241409c9"
      },
      "execution_count": null,
      "outputs": [
        {
          "output_type": "stream",
          "name": "stdout",
          "text": [
            "Protein =  HPHHPH\n",
            "Amino acid beads, N =  6\n",
            "Total qubit:  15\n",
            "Number of terms in energy equation:  202\n"
          ]
        }
      ]
    },
    {
      "cell_type": "code",
      "source": [
        "obj.display_energy_back()"
      ],
      "metadata": {
        "colab": {
          "base_uri": "https://localhost:8080/",
          "height": 60
        },
        "id": "yVfxoSnlPIY6",
        "outputId": "be5da4d8-4536-4f29-c34a-0f5667f053e2"
      },
      "execution_count": null,
      "outputs": [
        {
          "output_type": "display_data",
          "data": {
            "text/plain": [
              "<IPython.core.display.Math object>"
            ],
            "text/latex": "$\\displaystyle E_{\\mathrm{back}} = 3000 \\times (q_1q_2 + 2q_2q_3 - 2q_1q_2q_3 + q_3q_4 - 2q_3q_4q_5 - 2q_2q_3q_4 + 4q_2q_3q_4q_5 + q_2q_5 - 2q_2q_4q_5 - 2q_2q_3q_5 + 2q_4q_5 + q_5q_6 - 2q_5q_6q_7 - 2q_4q_5q_6 + 4q_4q_5q_6q_7 + q_4q_7 - 2q_4q_6q_7 - 2q_4q_5q_7 + q_6q_7)$"
          },
          "metadata": {}
        }
      ]
    },
    {
      "cell_type": "code",
      "source": [
        "obj.display_energy_overlap()"
      ],
      "metadata": {
        "colab": {
          "base_uri": "https://localhost:8080/",
          "height": 358
        },
        "id": "l-0FDu5uV3PC",
        "outputId": "1e809624-94db-4189-f6d8-d5a0bbee465d"
      },
      "execution_count": null,
      "outputs": [
        {
          "output_type": "display_data",
          "data": {
            "text/plain": [
              "<IPython.core.display.Math object>"
            ],
            "text/latex": "$\\displaystyle E_{\\mathrm{overlap}} = 3000 \\times (36 + 64q_1 + 144q_2 + 64q_3 + 144q_4 + 64q_5 - 64q_1q_3 - 64q_1q_5 - 64q_3q_5 - 11q_8 - 20q_9 - 32q_{10} - 32q_{11} + 96q_1q_2 + 96q_1q_4 - 64q_1q_2q_4 - 4q_1q_8 - 8q_1q_9 - 16q_1q_{10} - 32q_1q_{11} + 96q_2q_3 + 96q_2q_5 - 96q_1q_2q_3 - 96q_1q_2q_5 - 96q_2q_3q_5 - 12q_2q_8 - 24q_2q_9 - 48q_2q_{10} - 96q_2q_{11} + 96q_3q_4 - 64q_2q_3q_4 - 4q_3q_8 - 8q_3q_9 - 16q_3q_{10} - 32q_3q_{11} + 96q_4q_5 - 96q_1q_3q_4 - 96q_1q_4q_5 - 96q_3q_4q_5 - 12q_4q_8 - 24q_4q_9 - 48q_4q_{10} - 96q_4q_{11} - 64q_2q_4q_5 - 4q_5q_8 - 8q_5q_9 - 16q_5q_{10} - 32q_5q_{11} + 64q_1q_2q_3q_4 + 8q_1q_3q_8 + 16q_1q_3q_9 + 32q_1q_3q_{10} + 64q_1q_3q_{11} + 64q_1q_2q_4q_5 + 8q_1q_5q_8 + 16q_1q_5q_9 + 32q_1q_5q_{10} + 64q_1q_5q_{11} - 64q_2q_4 + 64q_2q_3q_4q_5 + 8q_2q_4q_8 + 16q_2q_4q_9 + 32q_2q_4q_{10} + 64q_2q_4q_{11} + 8q_3q_5q_8 + 16q_3q_5q_9 + 32q_3q_5q_{10} + 64q_3q_5q_{11} + 4q_8q_9 + 8q_8q_{10} + 16q_8q_{11} + 16q_9q_{10} + 32q_9q_{11} + 64q_{10}q_{11} - 8q_1q_7 - 48q_1q_2q_6 - 48q_1q_4q_6 + 72q_1q_6 - 12q_1q_{12} - 24q_1q_{13} - 48q_1q_{14} - 96q_1q_{15} + 32q_1q_2q_3q_6 + 32q_1q_3q_4q_6 + 96q_1q_3q_5q_7 - 48q_1q_3q_6 + 8q_1q_3q_{12} + 16q_1q_3q_{13} + 32q_1q_3q_{14} + 64q_1q_3q_{15} + 32q_1q_2q_5q_6 + 32q_1q_4q_5q_6 - 48q_1q_5q_6 + 8q_1q_5q_{12} + 16q_1q_5q_{13} + 32q_1q_5q_{14} + 64q_1q_5q_{15} - 48q_1q_2q_7 + 32q_1q_2q_4q_7 + 32q_1q_2q_6q_7 - 48q_1q_3q_7 - 48q_1q_4q_7 + 32q_1q_4q_6q_7 - 48q_1q_5q_7 - 48q_1q_6q_7 + 8q_1q_7q_{12} + 16q_1q_7q_{13} + 32q_1q_7q_{14} + 64q_1q_7q_{15} - 8q_2q_6 - 48q_2q_3q_7 - 48q_2q_5q_7 + 72q_2q_7 - 12q_2q_{12} - 24q_2q_{13} - 48q_2q_{14} - 96q_2q_{15} + 32q_2q_3q_4q_7 + 32q_2q_4q_5q_7 - 48q_2q_4q_7 + 8q_2q_4q_{12} + 16q_2q_4q_{13} + 32q_2q_4q_{14} + 64q_2q_4q_{15} - 48q_2q_3q_6 + 32q_2q_3q_5q_6 + 32q_2q_3q_6q_7 - 48q_2q_4q_6 - 48q_2q_5q_6 + 32q_2q_5q_6q_7 - 48q_2q_6q_7 + 8q_2q_6q_{12} + 16q_2q_6q_{13} + 32q_2q_6q_{14} + 64q_2q_6q_{15} - 8q_3q_7 - 48q_3q_4q_6 + 72q_3q_6 - 12q_3q_{12} - 24q_3q_{13} - 48q_3q_{14} - 96q_3q_{15} + 32q_3q_4q_5q_6 - 48q_3q_5q_6 + 8q_3q_5q_{12} + 16q_3q_5q_{13} + 32q_3q_5q_{14} + 64q_3q_5q_{15} - 48q_3q_4q_7 + 32q_3q_4q_6q_7 - 48q_3q_5q_7 - 48q_3q_6q_7 + 8q_3q_7q_{12} + 16q_3q_7q_{13} + 32q_3q_7q_{14} + 64q_3q_7q_{15} - 8q_4q_6 - 48q_4q_5q_7 + 72q_4q_7 - 12q_4q_{12} - 24q_4q_{13} - 48q_4q_{14} - 96q_4q_{15} - 48q_4q_5q_6 + 32q_4q_5q_6q_7 - 48q_4q_6q_7 + 8q_4q_6q_{12} + 16q_4q_6q_{13} + 32q_4q_6q_{14} + 64q_4q_6q_{15} - 8q_5q_7 + 72q_5q_6 - 12q_5q_{12} - 24q_5q_{13} - 48q_5q_{14} - 96q_5q_{15} - 48q_5q_6q_7 + 8q_5q_7q_{12} + 16q_5q_7q_{13} + 32q_5q_7q_{14} + 64q_5q_7q_{15} + 36q_6 + 72q_6q_7 - 12q_6q_{12} - 24q_6q_{13} - 48q_6q_{14} - 96q_6q_{15} + 36q_7 - 12q_7q_{12} - 24q_7q_{13} - 48q_7q_{14} - 96q_7q_{15} + q_{12} + 4q_{12}q_{13} + 8q_{12}q_{14} + 16q_{12}q_{15} + 4q_{13} + 16q_{13}q_{14} + 32q_{13}q_{15} + 16q_{14} + 64q_{14}q_{15} + 64q_{15})$"
          },
          "metadata": {}
        }
      ]
    },
    {
      "cell_type": "code",
      "source": [
        "obj.display_energy_pair()"
      ],
      "metadata": {
        "colab": {
          "base_uri": "https://localhost:8080/",
          "height": 38
        },
        "id": "04FRH-9dV4Cd",
        "outputId": "477b54c3-ac75-48ea-822c-7bba13af5bcd"
      },
      "execution_count": null,
      "outputs": [
        {
          "output_type": "display_data",
          "data": {
            "text/plain": [
              "<IPython.core.display.Math object>"
            ],
            "text/latex": "$\\displaystyle E_{\\mathrm{pair}} = -10 \\times (25 + 16q_2 - 8q_1q_3 + 4q_1 + 8q_3 + 12q_4 + 8q_5 + 12q_6 + 8q_7 - 4q_1q_5 - 4q_1q_7 - 8q_2q_4 - 8q_2q_6 - 8q_3q_5 - 8q_3q_7 - 8q_4q_6 - 8q_5q_7)$"
          },
          "metadata": {}
        }
      ]
    },
    {
      "cell_type": "code",
      "source": [
        "obj.display_energy_equation()"
      ],
      "metadata": {
        "colab": {
          "base_uri": "https://localhost:8080/",
          "height": 507
        },
        "id": "Iqa1KNhPXyir",
        "outputId": "3cbd75af-2c15-453b-b9e9-c76fa2ec4801"
      },
      "execution_count": null,
      "outputs": [
        {
          "output_type": "display_data",
          "data": {
            "text/plain": [
              "<IPython.core.display.Math object>"
            ],
            "text/latex": "$\\displaystyle E_{\\mathrm{overll}} = 291000q_1q_2 + 294000q_2q_3 - 294000q_1q_2q_3 + 291000q_3q_4 - 294000q_3q_4q_5 - 198000q_2q_3q_4 + 204000q_2q_3q_4q_5 + 291000q_2q_5 - 198000q_2q_4q_5 - 294000q_2q_3q_5 + 294000q_4q_5 + 219000q_5q_6 - 150000q_5q_6q_7 - 150000q_4q_5q_6 + 108000q_4q_5q_6q_7 + 219000q_4q_7 - 150000q_4q_6q_7 - 150000q_4q_5q_7 + 219000q_6q_7 + 108250 + 191960q_1 + 431840q_2 + 191920q_3 + 431880q_4 + 191920q_5 - 191920q_1q_3 - 191960q_1q_5 - 191920q_3q_5 - 33000q_8 - 60000q_9 - 96000q_{10} - 96000q_{11} + 288000q_1q_4 - 192000q_1q_2q_4 - 12000q_1q_8 - 24000q_1q_9 - 48000q_1q_{10} - 96000q_1q_{11} - 288000q_1q_2q_5 - 36000q_2q_8 - 72000q_2q_9 - 144000q_2q_{10} - 288000q_2q_{11} - 12000q_3q_8 - 24000q_3q_9 - 48000q_3q_{10} - 96000q_3q_{11} - 288000q_1q_3q_4 - 288000q_1q_4q_5 - 36000q_4q_8 - 72000q_4q_9 - 144000q_4q_{10} - 288000q_4q_{11} - 12000q_5q_8 - 24000q_5q_9 - 48000q_5q_{10} - 96000q_5q_{11} + 192000q_1q_2q_3q_4 + 24000q_1q_3q_8 + 48000q_1q_3q_9 + 96000q_1q_3q_{10} + 192000q_1q_3q_{11} + 192000q_1q_2q_4q_5 + 24000q_1q_5q_8 + 48000q_1q_5q_9 + 96000q_1q_5q_{10} + 192000q_1q_5q_{11} - 191920q_2q_4 + 24000q_2q_4q_8 + 48000q_2q_4q_9 + 96000q_2q_4q_{10} + 192000q_2q_4q_{11} + 24000q_3q_5q_8 + 48000q_3q_5q_9 + 96000q_3q_5q_{10} + 192000q_3q_5q_{11} + 12000q_8q_9 + 24000q_8q_{10} + 48000q_8q_{11} + 48000q_9q_{10} + 96000q_9q_{11} + 192000q_{10}q_{11} - 23960q_1q_7 - 144000q_1q_2q_6 - 144000q_1q_4q_6 + 216000q_1q_6 - 36000q_1q_{12} - 72000q_1q_{13} - 144000q_1q_{14} - 288000q_1q_{15} + 96000q_1q_2q_3q_6 + 96000q_1q_3q_4q_6 + 288000q_1q_3q_5q_7 - 144000q_1q_3q_6 + 24000q_1q_3q_{12} + 48000q_1q_3q_{13} + 96000q_1q_3q_{14} + 192000q_1q_3q_{15} + 96000q_1q_2q_5q_6 + 96000q_1q_4q_5q_6 - 144000q_1q_5q_6 + 24000q_1q_5q_{12} + 48000q_1q_5q_{13} + 96000q_1q_5q_{14} + 192000q_1q_5q_{15} - 144000q_1q_2q_7 + 96000q_1q_2q_4q_7 + 96000q_1q_2q_6q_7 - 144000q_1q_3q_7 - 144000q_1q_4q_7 + 96000q_1q_4q_6q_7 - 144000q_1q_5q_7 - 144000q_1q_6q_7 + 24000q_1q_7q_{12} + 48000q_1q_7q_{13} + 96000q_1q_7q_{14} + 192000q_1q_7q_{15} - 23920q_2q_6 - 144000q_2q_3q_7 - 144000q_2q_5q_7 + 216000q_2q_7 - 36000q_2q_{12} - 72000q_2q_{13} - 144000q_2q_{14} - 288000q_2q_{15} + 96000q_2q_3q_4q_7 + 96000q_2q_4q_5q_7 - 144000q_2q_4q_7 + 24000q_2q_4q_{12} + 48000q_2q_4q_{13} + 96000q_2q_4q_{14} + 192000q_2q_4q_{15} - 144000q_2q_3q_6 + 96000q_2q_3q_5q_6 + 96000q_2q_3q_6q_7 - 144000q_2q_4q_6 - 144000q_2q_5q_6 + 96000q_2q_5q_6q_7 - 144000q_2q_6q_7 + 24000q_2q_6q_{12} + 48000q_2q_6q_{13} + 96000q_2q_6q_{14} + 192000q_2q_6q_{15} - 23920q_3q_7 - 144000q_3q_4q_6 + 216000q_3q_6 - 36000q_3q_{12} - 72000q_3q_{13} - 144000q_3q_{14} - 288000q_3q_{15} + 96000q_3q_4q_5q_6 - 144000q_3q_5q_6 + 24000q_3q_5q_{12} + 48000q_3q_5q_{13} + 96000q_3q_5q_{14} + 192000q_3q_5q_{15} - 144000q_3q_4q_7 + 96000q_3q_4q_6q_7 - 144000q_3q_5q_7 - 144000q_3q_6q_7 + 24000q_3q_7q_{12} + 48000q_3q_7q_{13} + 96000q_3q_7q_{14} + 192000q_3q_7q_{15} - 23920q_4q_6 - 36000q_4q_{12} - 72000q_4q_{13} - 144000q_4q_{14} - 288000q_4q_{15} + 24000q_4q_6q_{12} + 48000q_4q_6q_{13} + 96000q_4q_6q_{14} + 192000q_4q_6q_{15} - 23920q_5q_7 - 36000q_5q_{12} - 72000q_5q_{13} - 144000q_5q_{14} - 288000q_5q_{15} + 24000q_5q_7q_{12} + 48000q_5q_7q_{13} + 96000q_5q_7q_{14} + 192000q_5q_7q_{15} + 107880q_6 - 36000q_6q_{12} - 72000q_6q_{13} - 144000q_6q_{14} - 288000q_6q_{15} + 107920q_7 - 36000q_7q_{12} - 72000q_7q_{13} - 144000q_7q_{14} - 288000q_7q_{15} + 3000q_{12} + 12000q_{12}q_{13} + 24000q_{12}q_{14} + 48000q_{12}q_{15} + 12000q_{13} + 48000q_{13}q_{14} + 96000q_{13}q_{15} + 48000q_{14} + 192000q_{14}q_{15} + 192000q_{15}$"
          },
          "metadata": {}
        }
      ]
    },
    {
      "cell_type": "code",
      "source": [
        "obj.get_fold()"
      ],
      "metadata": {
        "colab": {
          "base_uri": "https://localhost:8080/"
        },
        "id": "B_YMARtuDR5X",
        "outputId": "83157511-d8e7-443b-aaa9-73af33b20c29"
      },
      "execution_count": null,
      "outputs": [
        {
          "output_type": "stream",
          "name": "stdout",
          "text": [
            "Total qubit:  15\n",
            "Turn sequence:  0100100001\n",
            "Protein =  HPHHPH\n"
          ]
        },
        {
          "output_type": "display_data",
          "data": {
            "text/plain": [
              "<Figure size 800x800 with 1 Axes>"
            ],
            "image/png": "[encoded data removed]"
          },
          "metadata": {}
        }
      ]
    },
    {
      "cell_type": "code",
      "source": [
        "obj.plot_graph()"
      ],
      "metadata": {
        "colab": {
          "base_uri": "https://localhost:8080/",
          "height": 486
        },
        "id": "hY0CcYpIKLqq",
        "outputId": "744cbc63-540a-458d-923f-2bb5d104c471"
      },
      "execution_count": null,
      "outputs": [
        {
          "output_type": "stream",
          "name": "stderr",
          "text": [
            "/usr/local/lib/python3.10/dist-packages/matplotlib/cbook/__init__.py:1335: ComplexWarning: Casting complex values to real discards the imaginary part\n",
            "  return np.asarray(x, float)\n"
          ]
        },
        {
          "output_type": "display_data",
          "data": {
            "text/plain": [
              "<Figure size 640x480 with 1 Axes>"
            ],
            "image/png": "[encoded data removed]"
          },
          "metadata": {}
        }
      ]
    },
    {
      "cell_type": "code",
      "source": [
        "obj = ProteinFolding(protein = \"HPPH\")"
      ],
      "metadata": {
        "id": "il3J7-dURJBY"
      },
      "execution_count": null,
      "outputs": []
    },
    {
      "cell_type": "code",
      "source": [
        "obj.print_summary()"
      ],
      "metadata": {
        "colab": {
          "base_uri": "https://localhost:8080/"
        },
        "id": "_S42JIv3RP37",
        "outputId": "b7f6a493-53d7-499c-ab60-b232a1ee80bc"
      },
      "execution_count": null,
      "outputs": [
        {
          "output_type": "stream",
          "name": "stdout",
          "text": [
            "Protein =  HPPH\n",
            "Amino acid beads, N =  4\n",
            "Total qubit:  3\n",
            "Number of terms in energy equation:  6\n"
          ]
        }
      ]
    },
    {
      "cell_type": "code",
      "source": [
        "obj.get_fold()"
      ],
      "metadata": {
        "colab": {
          "base_uri": "https://localhost:8080/",
          "height": 737
        },
        "id": "H8chrog0TP5R",
        "outputId": "518ba6e7-9247-4356-ab1e-d672920b3c4c"
      },
      "execution_count": null,
      "outputs": [
        {
          "output_type": "stream",
          "name": "stdout",
          "text": [
            "Total qubit:  3\n",
            "Turn sequence:  010010\n",
            "Protein =  HPPH\n"
          ]
        },
        {
          "output_type": "display_data",
          "data": {
            "text/plain": [
              "<Figure size 800x800 with 1 Axes>"
            ],
            "image/png": "[encoded data removed]"
          },
          "metadata": {}
        }
      ]
    },
    {
      "cell_type": "code",
      "source": [
        "obj.plot_graph()"
      ],
      "metadata": {
        "colab": {
          "base_uri": "https://localhost:8080/",
          "height": 449
        },
        "id": "Ry-zc_A36VDS",
        "outputId": "700a7b15-e57b-4f46-9864-013ff74449ff"
      },
      "execution_count": null,
      "outputs": [
        {
          "output_type": "display_data",
          "data": {
            "text/plain": [
              "<Figure size 640x480 with 1 Axes>"
            ],
            "image/png": "[encoded data removed]"
          },
          "metadata": {}
        }
      ]
    },
    {
      "cell_type": "code",
      "source": [
        "obj = ProteinFolding(protein = \"PHHPH\")\n",
        "obj.print_summary()"
      ],
      "metadata": {
        "colab": {
          "base_uri": "https://localhost:8080/"
        },
        "id": "U1vCRv1JSkWA",
        "outputId": "100694fe-3104-4127-e4d9-bddaaa8f845a"
      },
      "execution_count": null,
      "outputs": [
        {
          "output_type": "stream",
          "name": "stdout",
          "text": [
            "Protein =  PHHPH\n",
            "Amino acid beads, N =  5\n",
            "Total qubit:  9\n",
            "Number of terms in energy equation:  75\n"
          ]
        }
      ]
    },
    {
      "cell_type": "code",
      "source": [
        "obj.display_energy_back()"
      ],
      "metadata": {
        "colab": {
          "base_uri": "https://localhost:8080/",
          "height": 39
        },
        "id": "JCVq8BnBRQvV",
        "outputId": "3f6156e6-795c-4767-ba53-c0b2a6927bf3"
      },
      "execution_count": null,
      "outputs": [
        {
          "output_type": "display_data",
          "data": {
            "text/plain": [
              "<IPython.core.display.Math object>"
            ],
            "text/latex": "$\\displaystyle E_{\\mathrm{back}} = 3000 \\times (q_1q_2 + 2q_2q_3 - 2q_1q_2q_3 + q_3q_4 - 2q_3q_4q_5 - 2q_2q_3q_4 + 4q_2q_3q_4q_5 + q_2q_5 - 2q_2q_4q_5 - 2q_2q_3q_5 + q_4q_5)$"
          },
          "metadata": {}
        }
      ]
    },
    {
      "cell_type": "code",
      "source": [
        "obj.display_energy_overlap()"
      ],
      "metadata": {
        "colab": {
          "base_uri": "https://localhost:8080/",
          "height": 150
        },
        "id": "Y86fkUe3RT6u",
        "outputId": "c38fe235-c4aa-4ce6-8da7-705c372686ec"
      },
      "execution_count": null,
      "outputs": [
        {
          "output_type": "display_data",
          "data": {
            "text/plain": [
              "<IPython.core.display.Math object>"
            ],
            "text/latex": "$\\displaystyle E_{\\mathrm{overlap}} = 3000 \\times (36 + 28q_1 + 108q_2 + 28q_3 + 108q_4 + 28q_5 - 56q_1q_3 - 56q_1q_5 - 56q_3q_5 - 11q_6 - 20q_7 - 32q_8 - 32q_9 + 24q_1q_2 + 24q_1q_4 - 16q_1q_2q_4 - 4q_1q_6 - 8q_1q_7 - 16q_1q_8 - 32q_1q_9 + 24q_2q_3 + 24q_2q_5 - 48q_1q_2q_3 - 48q_1q_2q_5 - 48q_2q_3q_5 - 12q_2q_6 - 24q_2q_7 - 48q_2q_8 - 96q_2q_9 + 24q_3q_4 - 16q_2q_3q_4 - 4q_3q_6 - 8q_3q_7 - 16q_3q_8 - 32q_3q_9 + 24q_4q_5 - 48q_1q_3q_4 - 48q_1q_4q_5 - 48q_3q_4q_5 - 12q_4q_6 - 24q_4q_7 - 48q_4q_8 - 96q_4q_9 - 16q_2q_4q_5 - 4q_5q_6 - 8q_5q_7 - 16q_5q_8 - 32q_5q_9 + 32q_1q_2q_3q_4 + 8q_1q_3q_6 + 16q_1q_3q_7 + 32q_1q_3q_8 + 64q_1q_3q_9 + 48q_1q_3q_5 + 32q_1q_2q_4q_5 + 8q_1q_5q_6 + 16q_1q_5q_7 + 32q_1q_5q_8 + 64q_1q_5q_9 - 56q_2q_4 + 32q_2q_3q_4q_5 + 8q_2q_4q_6 + 16q_2q_4q_7 + 32q_2q_4q_8 + 64q_2q_4q_9 + 8q_3q_5q_6 + 16q_3q_5q_7 + 32q_3q_5q_8 + 64q_3q_5q_9 + 4q_6q_7 + 8q_6q_8 + 16q_6q_9 + 16q_7q_8 + 32q_7q_9 + 64q_8q_9)$"
          },
          "metadata": {}
        }
      ]
    },
    {
      "cell_type": "code",
      "source": [
        "obj.display_energy_pair()"
      ],
      "metadata": {
        "colab": {
          "base_uri": "https://localhost:8080/",
          "height": 39
        },
        "id": "BgYKziiFRZkP",
        "outputId": "15c60c09-c193-49c0-b362-010c7e23aaaa"
      },
      "execution_count": null,
      "outputs": [
        {
          "output_type": "display_data",
          "data": {
            "text/plain": [
              "<IPython.core.display.Math object>"
            ],
            "text/latex": "$\\displaystyle E_{\\mathrm{pair}} = -10 \\times (7 + 4q_1 - 4q_1q_3 - 4q_1q_5 + 4q_2 - 4q_2q_4 + 4q_3 - 4q_3q_5 + 4q_4 + 4q_5)$"
          },
          "metadata": {}
        }
      ]
    },
    {
      "cell_type": "code",
      "source": [
        "obj.display_energy_equation()"
      ],
      "metadata": {
        "colab": {
          "base_uri": "https://localhost:8080/",
          "height": 194
        },
        "id": "FAg0m1_uRaW1",
        "outputId": "74da5823-e863-4ec5-fb51-f724c0e89eab"
      },
      "execution_count": null,
      "outputs": [
        {
          "output_type": "display_data",
          "data": {
            "text/plain": [
              "<IPython.core.display.Math object>"
            ],
            "text/latex": "$\\displaystyle E_{\\mathrm{overll}} = 75000q_1q_2 + 78000q_2q_3 - 150000q_1q_2q_3 + 75000q_3q_4 - 150000q_3q_4q_5 - 54000q_2q_3q_4 + 108000q_2q_3q_4q_5 + 75000q_2q_5 - 54000q_2q_4q_5 - 150000q_2q_3q_5 + 75000q_4q_5 + 108070 + 83960q_1 + 323960q_2 + 83960q_3 + 323960q_4 + 83960q_5 - 167960q_1q_3 - 167960q_1q_5 - 167960q_3q_5 - 33000q_6 - 60000q_7 - 96000q_8 - 96000q_9 + 72000q_1q_4 - 48000q_1q_2q_4 - 12000q_1q_6 - 24000q_1q_7 - 48000q_1q_8 - 96000q_1q_9 - 144000q_1q_2q_5 - 36000q_2q_6 - 72000q_2q_7 - 144000q_2q_8 - 288000q_2q_9 - 12000q_3q_6 - 24000q_3q_7 - 48000q_3q_8 - 96000q_3q_9 - 144000q_1q_3q_4 - 144000q_1q_4q_5 - 36000q_4q_6 - 72000q_4q_7 - 144000q_4q_8 - 288000q_4q_9 - 12000q_5q_6 - 24000q_5q_7 - 48000q_5q_8 - 96000q_5q_9 + 96000q_1q_2q_3q_4 + 24000q_1q_3q_6 + 48000q_1q_3q_7 + 96000q_1q_3q_8 + 192000q_1q_3q_9 + 144000q_1q_3q_5 + 96000q_1q_2q_4q_5 + 24000q_1q_5q_6 + 48000q_1q_5q_7 + 96000q_1q_5q_8 + 192000q_1q_5q_9 - 167960q_2q_4 + 24000q_2q_4q_6 + 48000q_2q_4q_7 + 96000q_2q_4q_8 + 192000q_2q_4q_9 + 24000q_3q_5q_6 + 48000q_3q_5q_7 + 96000q_3q_5q_8 + 192000q_3q_5q_9 + 12000q_6q_7 + 24000q_6q_8 + 48000q_6q_9 + 48000q_7q_8 + 96000q_7q_9 + 192000q_8q_9$"
          },
          "metadata": {}
        }
      ]
    },
    {
      "cell_type": "code",
      "source": [
        "obj.get_fold()"
      ],
      "metadata": {
        "colab": {
          "base_uri": "https://localhost:8080/",
          "height": 737
        },
        "id": "JY616m-qRfVd",
        "outputId": "e631caa9-ae28-4200-a87e-5e7b1b71e2fc"
      },
      "execution_count": null,
      "outputs": [
        {
          "output_type": "stream",
          "name": "stdout",
          "text": [
            "Total qubit:  9\n",
            "Turn sequence:  01000111\n",
            "Protein =  PHHPH\n"
          ]
        },
        {
          "output_type": "display_data",
          "data": {
            "text/plain": [
              "<Figure size 800x800 with 1 Axes>"
            ],
            "image/png": "[encoded data removed]"
          },
          "metadata": {}
        }
      ]
    },
    {
      "cell_type": "code",
      "source": [
        "obj.plot_graph()"
      ],
      "metadata": {
        "colab": {
          "base_uri": "https://localhost:8080/",
          "height": 449
        },
        "id": "8BcKIESlRlTq",
        "outputId": "6369d081-37a4-4457-916c-6ee3df53f994"
      },
      "execution_count": null,
      "outputs": [
        {
          "output_type": "display_data",
          "data": {
            "text/plain": [
              "<Figure size 640x480 with 1 Axes>"
            ],
            "image/png": "[encoded data removed]"
          },
          "metadata": {}
        }
      ]
    },
    {
      "cell_type": "code",
      "source": [
        "obj = ProteinFolding(protein = \"HHPPHPH\")\n",
        "obj.print_summary()\n",
        "# obj.display_energy_back()\n",
        "# obj.display_energy_overlap()\n",
        "# obj.display_energy_pair()\n",
        "# obj.display_energy_equation()\n",
        "# obj.get_fold()"
      ],
      "metadata": {
        "colab": {
          "base_uri": "https://localhost:8080/"
        },
        "id": "Ng608bhSZSzX",
        "outputId": "d6b78928-34e7-4f33-b323-d3309ae0d0e8"
      },
      "execution_count": null,
      "outputs": [
        {
          "output_type": "stream",
          "name": "stdout",
          "text": [
            "Protein =  HHPPHPH\n",
            "Amino acid beads, N =  7\n",
            "Total qubit:  27\n",
            "Number of terms in energy equation:  577\n"
          ]
        }
      ]
    },
    {
      "cell_type": "code",
      "source": [
        "obj = ProteinFolding(protein = \"HHPPHPHH\")\n",
        "obj.print_summary()\n",
        "obj.display_energy_back()\n",
        "obj.display_energy_overlap()\n",
        "obj.display_energy_pair()\n",
        "obj.display_energy_equation()\n",
        "# obj.get_fold()"
      ],
      "metadata": {
        "colab": {
          "base_uri": "https://localhost:8080/",
          "height": 1000
        },
        "id": "6Cf7JiXWZBGc",
        "outputId": "bdc74991-1d51-4766-9ca3-4fc0753097c9"
      },
      "execution_count": null,
      "outputs": [
        {
          "output_type": "stream",
          "name": "stdout",
          "text": [
            "Protein =  HHPPHPHH\n",
            "Amino acid beads, N =  8\n",
            "Total qubit:  39\n",
            "Number of terms in energy equation:  1110\n"
          ]
        },
        {
          "output_type": "display_data",
          "data": {
            "text/plain": [
              "<IPython.core.display.Math object>"
            ],
            "text/latex": "$\\displaystyle E_{\\mathrm{back}} = 3000 \\times (q_1q_2 + 2q_2q_3 - 2q_1q_2q_3 + q_3q_4 - 2q_3q_4q_5 - 2q_2q_3q_4 + 4q_2q_3q_4q_5 + q_2q_5 - 2q_2q_4q_5 - 2q_2q_3q_5 + 2q_4q_5 + q_5q_6 - 2q_5q_6q_7 - 2q_4q_5q_6 + 4q_4q_5q_6q_7 + q_4q_7 - 2q_4q_6q_7 - 2q_4q_5q_7 + 2q_6q_7 + q_7q_8 - 2q_7q_8q_9 - 2q_6q_7q_8 + 4q_6q_7q_8q_9 + q_6q_9 - 2q_6q_8q_9 - 2q_6q_7q_9 + 2q_8q_9 + q_9q_{10} - 2q_9q_{10}q_{11} - 2q_8q_9q_{10} + 4q_8q_9q_{10}q_{11} + q_8q_{11} - 2q_8q_{10}q_{11} - 2q_8q_9q_{11} + q_{10}q_{11})$"
          },
          "metadata": {}
        },
        {
          "output_type": "display_data",
          "data": {
            "text/plain": [
              "<IPython.core.display.Math object>"
            ],
            "text/latex": "$\\displaystyle E_{\\mathrm{overlap}} = 3000 \\times (2264 + 1216q_1 + 1700q_2 + 1252q_3 + 1736q_4 + 1288q_5 - 544q_1q_3 - 544q_1q_5 - 552q_3q_5 - 11q_{12} - 20q_{13} - 32q_{14} - 32q_{15} + 416q_1q_2 + 416q_1q_4 - 192q_1q_2q_4 - 4q_1q_{12} - 8q_1q_{13} - 16q_1q_{14} - 32q_1q_{15} + 488q_2q_3 + 488q_2q_5 - 256q_1q_2q_3 - 256q_1q_2q_5 - 304q_2q_3q_5 - 12q_2q_{12} - 24q_2q_{13} - 48q_2q_{14} - 96q_2q_{15} + 488q_3q_4 - 240q_2q_3q_4 - 4q_3q_{12} - 8q_3q_{13} - 16q_3q_{14} - 32q_3q_{15} + 560q_4q_5 - 256q_1q_3q_4 - 256q_1q_4q_5 - 304q_3q_4q_5 - 12q_4q_{12} - 24q_4q_{13} - 48q_4q_{14} - 96q_4q_{15} - 240q_2q_4q_5 - 4q_5q_{12} - 8q_5q_{13} - 16q_5q_{14} - 32q_5q_{15} + 128q_1q_2q_3q_4 + 8q_1q_3q_{12} + 16q_1q_3q_{13} + 32q_1q_3q_{14} + 64q_1q_3q_{15} + 128q_1q_2q_4q_5 + 8q_1q_5q_{12} + 16q_1q_5q_{13} + 32q_1q_5q_{14} + 64q_1q_5q_{15} - 488q_2q_4 + 160q_2q_3q_4q_5 + 8q_2q_4q_{12} + 16q_2q_4q_{13} + 32q_2q_4q_{14} + 64q_2q_4q_{15} + 8q_3q_5q_{12} + 16q_3q_5q_{13} + 32q_3q_5q_{14} + 64q_3q_5q_{15} + 4q_{12}q_{13} + 8q_{12}q_{14} + 16q_{12}q_{15} + 16q_{13}q_{14} + 32q_{13}q_{15} + 64q_{14}q_{15} + 1628q_6 + 1260q_7 + 1592q_8 + 1224q_9 - 488q_1q_7 - 480q_1q_9 - 432q_2q_6 - 424q_2q_8 - 496q_3q_7 - 488q_3q_9 - 440q_4q_6 - 432q_4q_8 - 504q_5q_7 - 496q_5q_9 - 432q_6q_8 - 496q_7q_9 - 75q_{20} - 148q_{21} - 288q_{22} - 544q_{23} - 960q_{24} - 1408q_{25} + 392q_1q_6 + 320q_1q_8 - 176q_1q_2q_6 - 128q_1q_2q_8 - 240q_1q_3q_7 - 192q_1q_3q_9 - 176q_1q_4q_6 - 128q_1q_4q_8 - 240q_1q_5q_7 - 192q_1q_5q_9 - 128q_1q_6q_8 - 192q_1q_7q_9 - 12q_1q_{20} - 24q_1q_{21} - 48q_1q_{22} - 96q_1q_{23} - 192q_1q_{24} - 384q_1q_{25} + 464q_2q_7 + 392q_2q_9 - 208q_1q_2q_7 - 160q_1q_2q_9 - 256q_2q_3q_7 - 208q_2q_3q_9 - 384q_2q_4q_6 - 336q_2q_4q_8 - 256q_2q_5q_7 - 208q_2q_5q_9 - 336q_2q_6q_8 - 208q_2q_7q_9 - 20q_2q_{20} - 40q_2q_{21} - 80q_2q_{22} - 160q_2q_{23} - 320q_2q_{24} - 640q_2q_{25} + 464q_3q_6 + 392q_3q_8 - 224q_2q_3q_6 - 176q_2q_3q_8 - 224q_3q_4q_6 - 176q_3q_4q_8 - 288q_3q_5q_7 - 240q_3q_5q_9 - 176q_3q_6q_8 - 240q_3q_7q_9 - 12q_3q_{20} - 24q_3q_{21} - 48q_3q_{22} - 96q_3q_{23} - 192q_3q_{24} - 384q_3q_{25} + 536q_4q_7 + 464q_4q_9 - 208q_1q_4q_7 - 160q_1q_4q_9 - 256q_3q_4q_7 - 208q_3q_4q_9 - 304q_4q_5q_7 - 256q_4q_5q_9 - 384q_4q_6q_8 - 256q_4q_7q_9 - 20q_4q_{20} - 40q_4q_{21} - 80q_4q_{22} - 160q_4q_{23} - 320q_4q_{24} - 640q_4q_{25} + 536q_5q_6 + 464q_5q_8 - 224q_2q_5q_6 - 176q_2q_5q_8 - 272q_4q_5q_6 - 224q_4q_5q_8 - 224q_5q_6q_8 - 288q_5q_7q_9 - 12q_5q_{20} - 24q_5q_{21} - 48q_5q_{22} - 96q_5q_{23} - 192q_5q_{24} - 384q_5q_{25} + 536q_6q_7 + 464q_6q_9 - 208q_1q_3q_6 - 208q_1q_5q_6 - 208q_1q_6q_7 - 160q_1q_6q_9 - 256q_3q_5q_6 - 256q_3q_6q_7 - 208q_3q_6q_9 - 304q_5q_6q_7 - 256q_5q_6q_9 - 256q_6q_7q_9 - 20q_6q_{20} - 40q_6q_{21} - 80q_6q_{22} - 160q_6q_{23} - 320q_6q_{24} - 640q_6q_{25} + 464q_7q_8 - 224q_2q_4q_7 - 224q_2q_6q_7 - 176q_2q_7q_8 - 272q_4q_6q_7 - 224q_4q_7q_8 - 224q_6q_7q_8 - 12q_7q_{20} - 24q_7q_{21} - 48q_7q_{22} - 96q_7q_{23} - 192q_7q_{24} - 384q_7q_{25} + 464q_8q_9 - 160q_1q_3q_8 - 160q_1q_5q_8 - 160q_1q_7q_8 - 160q_1q_8q_9 - 208q_3q_5q_8 - 208q_3q_7q_8 - 208q_3q_8q_9 - 256q_5q_7q_8 - 256q_5q_8q_9 - 256q_7q_8q_9 - 20q_8q_{20} - 40q_8q_{21} - 80q_8q_{22} - 160q_8q_{23} - 320q_8q_{24} - 640q_8q_{25} - 176q_2q_4q_9 - 176q_2q_6q_9 - 176q_2q_8q_9 - 224q_4q_6q_9 - 224q_4q_8q_9 - 224q_6q_8q_9 - 12q_9q_{20} - 24q_9q_{21} - 48q_9q_{22} - 96q_9q_{23} - 192q_9q_{24} - 384q_9q_{25} + 96q_1q_2q_3q_6 + 64q_1q_2q_3q_8 + 96q_1q_3q_4q_6 + 64q_1q_3q_4q_8 + 288q_1q_3q_5q_7 + 192q_1q_3q_5q_9 + 64q_1q_3q_6q_8 + 192q_1q_3q_7q_9 + 8q_1q_3q_{20} + 16q_1q_3q_{21} + 32q_1q_3q_{22} + 64q_1q_3q_{23} + 128q_1q_3q_{24} + 256q_1q_3q_{25} + 96q_1q_2q_5q_6 + 64q_1q_2q_5q_8 + 96q_1q_4q_5q_6 + 64q_1q_4q_5q_8 + 64q_1q_5q_6q_8 + 192q_1q_5q_7q_9 + 8q_1q_5q_{20} + 16q_1q_5q_{21} + 32q_1q_5q_{22} + 64q_1q_5q_{23} + 128q_1q_5q_{24} + 256q_1q_5q_{25} + 96q_1q_2q_4q_7 + 96q_1q_2q_6q_7 + 64q_1q_2q_7q_8 + 96q_1q_4q_6q_7 + 64q_1q_4q_7q_8 + 64q_1q_6q_7q_8 + 8q_1q_7q_{20} + 16q_1q_7q_{21} + 32q_1q_7q_{22} + 64q_1q_7q_{23} + 128q_1q_7q_{24} + 256q_1q_7q_{25} + 64q_1q_2q_4q_9 + 64q_1q_2q_6q_9 + 64q_1q_2q_8q_9 + 64q_1q_4q_6q_9 + 64q_1q_4q_8q_9 + 64q_1q_6q_8q_9 + 8q_1q_9q_{20} + 16q_1q_9q_{21} + 32q_1q_9q_{22} + 64q_1q_9q_{23} + 128q_1q_9q_{24} + 256q_1q_9q_{25} + 128q_2q_3q_4q_7 + 96q_2q_3q_4q_9 + 128q_2q_4q_5q_7 + 96q_2q_4q_5q_9 + 288q_2q_4q_6q_8 + 96q_2q_4q_7q_9 + 8q_2q_4q_{20} + 16q_2q_4q_{21} + 32q_2q_4q_{22} + 64q_2q_4q_{23} + 128q_2q_4q_{24} + 256q_2q_4q_{25} + 128q_2q_3q_5q_6 + 128q_2q_3q_6q_7 + 96q_2q_3q_6q_9 + 128q_2q_5q_6q_7 + 96q_2q_5q_6q_9 + 96q_2q_6q_7q_9 + 8q_2q_6q_{20} + 16q_2q_6q_{21} + 32q_2q_6q_{22} + 64q_2q_6q_{23} + 128q_2q_6q_{24} + 256q_2q_6q_{25} + 96q_2q_3q_5q_8 + 96q_2q_3q_7q_8 + 96q_2q_3q_8q_9 + 96q_2q_5q_7q_8 + 96q_2q_5q_8q_9 + 96q_2q_7q_8q_9 + 8q_2q_8q_{20} + 16q_2q_8q_{21} + 32q_2q_8q_{22} + 64q_2q_8q_{23} + 128q_2q_8q_{24} + 256q_2q_8q_{25} + 128q_3q_4q_5q_6 + 96q_3q_4q_5q_8 + 96q_3q_5q_6q_8 + 288q_3q_5q_7q_9 + 8q_3q_5q_{20} + 16q_3q_5q_{21} + 32q_3q_5q_{22} + 64q_3q_5q_{23} + 128q_3q_5q_{24} + 256q_3q_5q_{25} + 128q_3q_4q_6q_7 + 96q_3q_4q_7q_8 + 96q_3q_6q_7q_8 + 8q_3q_7q_{20} + 16q_3q_7q_{21} + 32q_3q_7q_{22} + 64q_3q_7q_{23} + 128q_3q_7q_{24} + 256q_3q_7q_{25} + 96q_3q_4q_6q_9 + 96q_3q_4q_8q_9 + 96q_3q_6q_8q_9 + 8q_3q_9q_{20} + 16q_3q_9q_{21} + 32q_3q_9q_{22} + 64q_3q_9q_{23} + 128q_3q_9q_{24} + 256q_3q_9q_{25} + 160q_4q_5q_6q_7 + 128q_4q_5q_6q_9 + 128q_4q_6q_7q_9 + 8q_4q_6q_{20} + 16q_4q_6q_{21} + 32q_4q_6q_{22} + 64q_4q_6q_{23} + 128q_4q_6q_{24} + 256q_4q_6q_{25} + 128q_4q_5q_7q_8 + 128q_4q_5q_8q_9 + 128q_4q_7q_8q_9 + 8q_4q_8q_{20} + 16q_4q_8q_{21} + 32q_4q_8q_{22} + 64q_4q_8q_{23} + 128q_4q_8q_{24} + 256q_4q_8q_{25} + 128q_5q_6q_7q_8 + 8q_5q_7q_{20} + 16q_5q_7q_{21} + 32q_5q_7q_{22} + 64q_5q_7q_{23} + 128q_5q_7q_{24} + 256q_5q_7q_{25} + 128q_5q_6q_8q_9 + 8q_5q_9q_{20} + 16q_5q_9q_{21} + 32q_5q_9q_{22} + 64q_5q_9q_{23} + 128q_5q_9q_{24} + 256q_5q_9q_{25} + 128q_6q_7q_8q_9 + 8q_6q_8q_{20} + 16q_6q_8q_{21} + 32q_6q_8q_{22} + 64q_6q_8q_{23} + 128q_6q_8q_{24} + 256q_6q_8q_{25} + 8q_7q_9q_{20} + 16q_7q_9q_{21} + 32q_7q_9q_{22} + 64q_7q_9q_{23} + 128q_7q_9q_{24} + 256q_7q_9q_{25} + 4q_{20}q_{21} + 8q_{20}q_{22} + 16q_{20}q_{23} + 32q_{20}q_{24} + 64q_{20}q_{25} + 16q_{21}q_{22} + 32q_{21}q_{23} + 64q_{21}q_{24} + 128q_{21}q_{25} + 64q_{22}q_{23} + 128q_{22}q_{24} + 256q_{22}q_{25} + 256q_{23}q_{24} + 512q_{23}q_{25} + 1024q_{24}q_{25} - 12q_1q_{16} - 24q_1q_{17} - 48q_1q_{18} - 96q_1q_{19} + 8q_1q_3q_{16} + 16q_1q_3q_{17} + 32q_1q_3q_{18} + 64q_1q_3q_{19} - 192q_1q_3q_5 + 8q_1q_5q_{16} + 16q_1q_5q_{17} + 32q_1q_5q_{18} + 64q_1q_5q_{19} + 8q_1q_7q_{16} + 16q_1q_7q_{17} + 32q_1q_7q_{18} + 64q_1q_7q_{19} - 12q_2q_{16} - 24q_2q_{17} - 48q_2q_{18} - 96q_2q_{19} + 8q_2q_4q_{16} + 16q_2q_4q_{17} + 32q_2q_4q_{18} + 64q_2q_4q_{19} + 8q_2q_6q_{16} + 16q_2q_6q_{17} + 32q_2q_6q_{18} + 64q_2q_6q_{19} - 12q_3q_{16} - 24q_3q_{17} - 48q_3q_{18} - 96q_3q_{19} + 8q_3q_5q_{16} + 16q_3q_5q_{17} + 32q_3q_5q_{18} + 64q_3q_5q_{19} + 8q_3q_7q_{16} + 16q_3q_7q_{17} + 32q_3q_7q_{18} + 64q_3q_7q_{19} - 12q_4q_{16} - 24q_4q_{17} - 48q_4q_{18} - 96q_4q_{19} + 8q_4q_6q_{16} + 16q_4q_6q_{17} + 32q_4q_6q_{18} + 64q_4q_6q_{19} - 12q_5q_{16} - 24q_5q_{17} - 48q_5q_{18} - 96q_5q_{19} + 8q_5q_7q_{16} + 16q_5q_7q_{17} + 32q_5q_7q_{18} + 64q_5q_7q_{19} - 12q_6q_{16} - 24q_6q_{17} - 48q_6q_{18} - 96q_6q_{19} - 12q_7q_{16} - 24q_7q_{17} - 48q_7q_{18} - 96q_7q_{19} + q_{16} + 4q_{16}q_{17} + 8q_{16}q_{18} + 16q_{16}q_{19} + 4q_{17} + 16q_{17}q_{18} + 32q_{17}q_{19} + 16q_{18} + 64q_{18}q_{19} + 64q_{19} - 168q_1q_{11} - 168q_2q_{10} - 168q_3q_{11} - 176q_4q_{10} - 176q_5q_{11} - 176q_6q_{10} - 176q_7q_{11} - 176q_8q_{10} - 176q_9q_{11} + 696q_{10} + 696q_{11} - 55q_{30} - 108q_{31} - 208q_{32} - 384q_{33} - 640q_{34} - 768q_{35} - 80q_1q_2q_{10} - 144q_1q_3q_{11} - 80q_1q_4q_{10} - 144q_1q_5q_{11} - 80q_1q_6q_{10} - 144q_1q_7q_{11} - 80q_1q_8q_{10} - 144q_1q_9q_{11} + 200q_1q_{10} - 20q_1q_{30} - 40q_1q_{31} - 80q_1q_{32} - 160q_1q_{33} - 320q_1q_{34} - 640q_1q_{35} + 32q_1q_2q_3q_{10} + 32q_1q_3q_4q_{10} + 96q_1q_3q_5q_{11} + 32q_1q_3q_6q_{10} + 96q_1q_3q_7q_{11} + 32q_1q_3q_8q_{10} + 96q_1q_3q_9q_{11} - 80q_1q_3q_{10} + 8q_1q_3q_{30} + 16q_1q_3q_{31} + 32q_1q_3q_{32} + 64q_1q_3q_{33} + 128q_1q_3q_{34} + 256q_1q_3q_{35} + 32q_1q_2q_5q_{10} + 32q_1q_4q_5q_{10} + 32q_1q_5q_6q_{10} + 96q_1q_5q_7q_{11} + 32q_1q_5q_8q_{10} + 96q_1q_5q_9q_{11} - 80q_1q_5q_{10} + 8q_1q_5q_{30} + 16q_1q_5q_{31} + 32q_1q_5q_{32} + 64q_1q_5q_{33} + 128q_1q_5q_{34} + 256q_1q_5q_{35} + 32q_1q_2q_7q_{10} + 32q_1q_4q_7q_{10} + 32q_1q_6q_7q_{10} + 32q_1q_7q_8q_{10} + 96q_1q_7q_9q_{11} - 80q_1q_7q_{10} + 8q_1q_7q_{30} + 16q_1q_7q_{31} + 32q_1q_7q_{32} + 64q_1q_7q_{33} + 128q_1q_7q_{34} + 256q_1q_7q_{35} + 32q_1q_2q_9q_{10} + 32q_1q_4q_9q_{10} + 32q_1q_6q_9q_{10} + 32q_1q_8q_9q_{10} - 80q_1q_9q_{10} + 8q_1q_9q_{30} + 16q_1q_9q_{31} + 32q_1q_9q_{32} + 64q_1q_9q_{33} + 128q_1q_9q_{34} + 256q_1q_9q_{35} - 80q_1q_2q_{11} + 32q_1q_2q_4q_{11} + 32q_1q_2q_6q_{11} + 32q_1q_2q_8q_{11} + 32q_1q_2q_{10}q_{11} - 80q_1q_4q_{11} + 32q_1q_4q_6q_{11} + 32q_1q_4q_8q_{11} + 32q_1q_4q_{10}q_{11} - 80q_1q_6q_{11} + 32q_1q_6q_8q_{11} + 32q_1q_6q_{10}q_{11} - 80q_1q_8q_{11} + 32q_1q_8q_{10}q_{11} - 80q_1q_{10}q_{11} + 8q_1q_{11}q_{30} + 16q_1q_{11}q_{31} + 32q_1q_{11}q_{32} + 64q_1q_{11}q_{33} + 128q_1q_{11}q_{34} + 256q_1q_{11}q_{35} - 80q_2q_3q_{11} - 144q_2q_4q_{10} - 80q_2q_5q_{11} - 144q_2q_6q_{10} - 80q_2q_7q_{11} - 144q_2q_8q_{10} - 80q_2q_9q_{11} + 200q_2q_{11} - 20q_2q_{30} - 40q_2q_{31} - 80q_2q_{32} - 160q_2q_{33} - 320q_2q_{34} - 640q_2q_{35} + 32q_2q_3q_4q_{11} + 32q_2q_4q_5q_{11} + 96q_2q_4q_6q_{10} + 32q_2q_4q_7q_{11} + 96q_2q_4q_8q_{10} + 32q_2q_4q_9q_{11} - 80q_2q_4q_{11} + 8q_2q_4q_{30} + 16q_2q_4q_{31} + 32q_2q_4q_{32} + 64q_2q_4q_{33} + 128q_2q_4q_{34} + 256q_2q_4q_{35} + 32q_2q_3q_6q_{11} + 32q_2q_5q_6q_{11} + 32q_2q_6q_7q_{11} + 96q_2q_6q_8q_{10} + 32q_2q_6q_9q_{11} - 80q_2q_6q_{11} + 8q_2q_6q_{30} + 16q_2q_6q_{31} + 32q_2q_6q_{32} + 64q_2q_6q_{33} + 128q_2q_6q_{34} + 256q_2q_6q_{35} + 32q_2q_3q_8q_{11} + 32q_2q_5q_8q_{11} + 32q_2q_7q_8q_{11} + 32q_2q_8q_9q_{11} - 80q_2q_8q_{11} + 8q_2q_8q_{30} + 16q_2q_8q_{31} + 32q_2q_8q_{32} + 64q_2q_8q_{33} + 128q_2q_8q_{34} + 256q_2q_8q_{35} - 80q_2q_3q_{10} + 32q_2q_3q_5q_{10} + 32q_2q_3q_7q_{10} + 32q_2q_3q_9q_{10} + 32q_2q_3q_{10}q_{11} - 80q_2q_5q_{10} + 32q_2q_5q_7q_{10} + 32q_2q_5q_9q_{10} + 32q_2q_5q_{10}q_{11} - 80q_2q_7q_{10} + 32q_2q_7q_9q_{10} + 32q_2q_7q_{10}q_{11} - 80q_2q_9q_{10} + 32q_2q_9q_{10}q_{11} - 80q_2q_{10}q_{11} + 8q_2q_{10}q_{30} + 16q_2q_{10}q_{31} + 32q_2q_{10}q_{32} + 64q_2q_{10}q_{33} + 128q_2q_{10}q_{34} + 256q_2q_{10}q_{35} - 80q_3q_4q_{10} - 144q_3q_5q_{11} - 80q_3q_6q_{10} - 144q_3q_7q_{11} - 80q_3q_8q_{10} - 144q_3q_9q_{11} + 200q_3q_{10} - 20q_3q_{30} - 40q_3q_{31} - 80q_3q_{32} - 160q_3q_{33} - 320q_3q_{34} - 640q_3q_{35} + 32q_3q_4q_5q_{10} + 32q_3q_5q_6q_{10} + 96q_3q_5q_7q_{11} + 32q_3q_5q_8q_{10} + 96q_3q_5q_9q_{11} - 80q_3q_5q_{10} + 8q_3q_5q_{30} + 16q_3q_5q_{31} + 32q_3q_5q_{32} + 64q_3q_5q_{33} + 128q_3q_5q_{34} + 256q_3q_5q_{35} + 32q_3q_4q_7q_{10} + 32q_3q_6q_7q_{10} + 32q_3q_7q_8q_{10} + 96q_3q_7q_9q_{11} - 80q_3q_7q_{10} + 8q_3q_7q_{30} + 16q_3q_7q_{31} + 32q_3q_7q_{32} + 64q_3q_7q_{33} + 128q_3q_7q_{34} + 256q_3q_7q_{35} + 32q_3q_4q_9q_{10} + 32q_3q_6q_9q_{10} + 32q_3q_8q_9q_{10} - 80q_3q_9q_{10} + 8q_3q_9q_{30} + 16q_3q_9q_{31} + 32q_3q_9q_{32} + 64q_3q_9q_{33} + 128q_3q_9q_{34} + 256q_3q_9q_{35} - 80q_3q_4q_{11} + 32q_3q_4q_6q_{11} + 32q_3q_4q_8q_{11} + 32q_3q_4q_{10}q_{11} - 80q_3q_6q_{11} + 32q_3q_6q_8q_{11} + 32q_3q_6q_{10}q_{11} - 80q_3q_8q_{11} + 32q_3q_8q_{10}q_{11} - 80q_3q_{10}q_{11} + 8q_3q_{11}q_{30} + 16q_3q_{11}q_{31} + 32q_3q_{11}q_{32} + 64q_3q_{11}q_{33} + 128q_3q_{11}q_{34} + 256q_3q_{11}q_{35} - 128q_4q_5q_{11} - 192q_4q_6q_{10} - 128q_4q_7q_{11} - 192q_4q_8q_{10} - 128q_4q_9q_{11} + 272q_4q_{11} - 20q_4q_{30} - 40q_4q_{31} - 80q_4q_{32} - 160q_4q_{33} - 320q_4q_{34} - 640q_4q_{35} + 64q_4q_5q_6q_{11} + 64q_4q_6q_7q_{11} + 192q_4q_6q_8q_{10} + 64q_4q_6q_9q_{11} - 128q_4q_6q_{11} + 8q_4q_6q_{30} + 16q_4q_6q_{31} + 32q_4q_6q_{32} + 64q_4q_6q_{33} + 128q_4q_6q_{34} + 256q_4q_6q_{35} + 64q_4q_5q_8q_{11} + 64q_4q_7q_8q_{11} + 64q_4q_8q_9q_{11} - 128q_4q_8q_{11} + 8q_4q_8q_{30} + 16q_4q_8q_{31} + 32q_4q_8q_{32} + 64q_4q_8q_{33} + 128q_4q_8q_{34} + 256q_4q_8q_{35} - 128q_4q_5q_{10} + 64q_4q_5q_7q_{10} + 64q_4q_5q_9q_{10} + 64q_4q_5q_{10}q_{11} - 128q_4q_7q_{10} + 64q_4q_7q_9q_{10} + 64q_4q_7q_{10}q_{11} - 128q_4q_9q_{10} + 64q_4q_9q_{10}q_{11} - 128q_4q_{10}q_{11} + 8q_4q_{10}q_{30} + 16q_4q_{10}q_{31} + 32q_4q_{10}q_{32} + 64q_4q_{10}q_{33} + 128q_4q_{10}q_{34} + 256q_4q_{10}q_{35} - 128q_5q_6q_{10} - 192q_5q_7q_{11} - 128q_5q_8q_{10} - 192q_5q_9q_{11} + 272q_5q_{10} - 20q_5q_{30} - 40q_5q_{31} - 80q_5q_{32} - 160q_5q_{33} - 320q_5q_{34} - 640q_5q_{35} + 64q_5q_6q_7q_{10} + 64q_5q_7q_8q_{10} + 192q_5q_7q_9q_{11} - 128q_5q_7q_{10} + 8q_5q_7q_{30} + 16q_5q_7q_{31} + 32q_5q_7q_{32} + 64q_5q_7q_{33} + 128q_5q_7q_{34} + 256q_5q_7q_{35} + 64q_5q_6q_9q_{10} + 64q_5q_8q_9q_{10} - 128q_5q_9q_{10} + 8q_5q_9q_{30} + 16q_5q_9q_{31} + 32q_5q_9q_{32} + 64q_5q_9q_{33} + 128q_5q_9q_{34} + 256q_5q_9q_{35} - 128q_5q_6q_{11} + 64q_5q_6q_8q_{11} + 64q_5q_6q_{10}q_{11} - 128q_5q_8q_{11} + 64q_5q_8q_{10}q_{11} - 128q_5q_{10}q_{11} + 8q_5q_{11}q_{30} + 16q_5q_{11}q_{31} + 32q_5q_{11}q_{32} + 64q_5q_{11}q_{33} + 128q_5q_{11}q_{34} + 256q_5q_{11}q_{35} - 128q_6q_7q_{11} - 192q_6q_8q_{10} - 128q_6q_9q_{11} + 272q_6q_{11} - 20q_6q_{30} - 40q_6q_{31} - 80q_6q_{32} - 160q_6q_{33} - 320q_6q_{34} - 640q_6q_{35} + 64q_6q_7q_8q_{11} + 64q_6q_8q_9q_{11} - 128q_6q_8q_{11} + 8q_6q_8q_{30} + 16q_6q_8q_{31} + 32q_6q_8q_{32} + 64q_6q_8q_{33} + 128q_6q_8q_{34} + 256q_6q_8q_{35} - 128q_6q_7q_{10} + 64q_6q_7q_9q_{10} + 64q_6q_7q_{10}q_{11} - 128q_6q_9q_{10} + 64q_6q_9q_{10}q_{11} - 128q_6q_{10}q_{11} + 8q_6q_{10}q_{30} + 16q_6q_{10}q_{31} + 32q_6q_{10}q_{32} + 64q_6q_{10}q_{33} + 128q_6q_{10}q_{34} + 256q_6q_{10}q_{35} - 128q_7q_8q_{10} - 192q_7q_9q_{11} + 272q_7q_{10} - 20q_7q_{30} - 40q_7q_{31} - 80q_7q_{32} - 160q_7q_{33} - 320q_7q_{34} - 640q_7q_{35} + 64q_7q_8q_9q_{10} - 128q_7q_9q_{10} + 8q_7q_9q_{30} + 16q_7q_9q_{31} + 32q_7q_9q_{32} + 64q_7q_9q_{33} + 128q_7q_9q_{34} + 256q_7q_9q_{35} - 128q_7q_8q_{11} + 64q_7q_8q_{10}q_{11} - 128q_7q_{10}q_{11} + 8q_7q_{11}q_{30} + 16q_7q_{11}q_{31} + 32q_7q_{11}q_{32} + 64q_7q_{11}q_{33} + 128q_7q_{11}q_{34} + 256q_7q_{11}q_{35} - 128q_8q_9q_{11} + 272q_8q_{11} - 20q_8q_{30} - 40q_8q_{31} - 80q_8q_{32} - 160q_8q_{33} - 320q_8q_{34} - 640q_8q_{35} - 128q_8q_9q_{10} + 64q_8q_9q_{10}q_{11} - 128q_8q_{10}q_{11} + 8q_8q_{10}q_{30} + 16q_8q_{10}q_{31} + 32q_8q_{10}q_{32} + 64q_8q_{10}q_{33} + 128q_8q_{10}q_{34} + 256q_8q_{10}q_{35} + 272q_9q_{10} - 20q_9q_{30} - 40q_9q_{31} - 80q_9q_{32} - 160q_9q_{33} - 320q_9q_{34} - 640q_9q_{35} - 128q_9q_{10}q_{11} + 8q_9q_{11}q_{30} + 16q_9q_{11}q_{31} + 32q_9q_{11}q_{32} + 64q_9q_{11}q_{33} + 128q_9q_{11}q_{34} + 256q_9q_{11}q_{35} + 272q_{10}q_{11} - 20q_{10}q_{30} - 40q_{10}q_{31} - 80q_{10}q_{32} - 160q_{10}q_{33} - 320q_{10}q_{34} - 640q_{10}q_{35} - 20q_{11}q_{30} - 40q_{11}q_{31} - 80q_{11}q_{32} - 160q_{11}q_{33} - 320q_{11}q_{34} - 640q_{11}q_{35} + 4q_{30}q_{31} + 8q_{30}q_{32} + 16q_{30}q_{33} + 32q_{30}q_{34} + 64q_{30}q_{35} + 16q_{31}q_{32} + 32q_{31}q_{33} + 64q_{31}q_{34} + 128q_{31}q_{35} + 64q_{32}q_{33} + 128q_{32}q_{34} + 256q_{32}q_{35} + 256q_{33}q_{34} + 512q_{33}q_{35} + 1024q_{34}q_{35} - 12q_2q_{26} - 24q_2q_{27} - 48q_2q_{28} - 96q_2q_{29} + 8q_2q_4q_{26} + 16q_2q_4q_{27} + 32q_2q_4q_{28} + 64q_2q_4q_{29} + 8q_2q_6q_{26} + 16q_2q_6q_{27} + 32q_2q_6q_{28} + 64q_2q_6q_{29} + 8q_2q_8q_{26} + 16q_2q_8q_{27} + 32q_2q_8q_{28} + 64q_2q_8q_{29} - 12q_3q_{26} - 24q_3q_{27} - 48q_3q_{28} - 96q_3q_{29} + 8q_3q_5q_{26} + 16q_3q_5q_{27} + 32q_3q_5q_{28} + 64q_3q_5q_{29} + 8q_3q_7q_{26} + 16q_3q_7q_{27} + 32q_3q_7q_{28} + 64q_3q_7q_{29} + 8q_3q_9q_{26} + 16q_3q_9q_{27} + 32q_3q_9q_{28} + 64q_3q_9q_{29} - 12q_4q_{26} - 24q_4q_{27} - 48q_4q_{28} - 96q_4q_{29} + 8q_4q_6q_{26} + 16q_4q_6q_{27} + 32q_4q_6q_{28} + 64q_4q_6q_{29} + 8q_4q_8q_{26} + 16q_4q_8q_{27} + 32q_4q_8q_{28} + 64q_4q_8q_{29} - 12q_5q_{26} - 24q_5q_{27} - 48q_5q_{28} - 96q_5q_{29} + 8q_5q_7q_{26} + 16q_5q_7q_{27} + 32q_5q_7q_{28} + 64q_5q_7q_{29} + 8q_5q_9q_{26} + 16q_5q_9q_{27} + 32q_5q_9q_{28} + 64q_5q_9q_{29} - 12q_6q_{26} - 24q_6q_{27} - 48q_6q_{28} - 96q_6q_{29} + 8q_6q_8q_{26} + 16q_6q_8q_{27} + 32q_6q_8q_{28} + 64q_6q_8q_{29} - 12q_7q_{26} - 24q_7q_{27} - 48q_7q_{28} - 96q_7q_{29} + 8q_7q_9q_{26} + 16q_7q_9q_{27} + 32q_7q_9q_{28} + 64q_7q_9q_{29} - 12q_8q_{26} - 24q_8q_{27} - 48q_8q_{28} - 96q_8q_{29} - 12q_9q_{26} - 24q_9q_{27} - 48q_9q_{28} - 96q_9q_{29} + q_{26} + 4q_{26}q_{27} + 8q_{26}q_{28} + 16q_{26}q_{29} + 4q_{27} + 16q_{27}q_{28} + 32q_{27}q_{29} + 16q_{28} + 64q_{28}q_{29} + 64q_{29} - 12q_4q_{36} - 24q_4q_{37} - 48q_4q_{38} - 96q_4q_{39} + 8q_4q_6q_{36} + 16q_4q_6q_{37} + 32q_4q_6q_{38} + 64q_4q_6q_{39} + 8q_4q_8q_{36} + 16q_4q_8q_{37} + 32q_4q_8q_{38} + 64q_4q_8q_{39} + 8q_4q_{10}q_{36} + 16q_4q_{10}q_{37} + 32q_4q_{10}q_{38} + 64q_4q_{10}q_{39} - 12q_5q_{36} - 24q_5q_{37} - 48q_5q_{38} - 96q_5q_{39} + 8q_5q_7q_{36} + 16q_5q_7q_{37} + 32q_5q_7q_{38} + 64q_5q_7q_{39} + 8q_5q_9q_{36} + 16q_5q_9q_{37} + 32q_5q_9q_{38} + 64q_5q_9q_{39} + 8q_5q_{11}q_{36} + 16q_5q_{11}q_{37} + 32q_5q_{11}q_{38} + 64q_5q_{11}q_{39} - 12q_6q_{36} - 24q_6q_{37} - 48q_6q_{38} - 96q_6q_{39} + 8q_6q_8q_{36} + 16q_6q_8q_{37} + 32q_6q_8q_{38} + 64q_6q_8q_{39} + 8q_6q_{10}q_{36} + 16q_6q_{10}q_{37} + 32q_6q_{10}q_{38} + 64q_6q_{10}q_{39} - 12q_7q_{36} - 24q_7q_{37} - 48q_7q_{38} - 96q_7q_{39} + 8q_7q_9q_{36} + 16q_7q_9q_{37} + 32q_7q_9q_{38} + 64q_7q_9q_{39} + 8q_7q_{11}q_{36} + 16q_7q_{11}q_{37} + 32q_7q_{11}q_{38} + 64q_7q_{11}q_{39} - 12q_8q_{36} - 24q_8q_{37} - 48q_8q_{38} - 96q_8q_{39} + 8q_8q_{10}q_{36} + 16q_8q_{10}q_{37} + 32q_8q_{10}q_{38} + 64q_8q_{10}q_{39} - 12q_9q_{36} - 24q_9q_{37} - 48q_9q_{38} - 96q_9q_{39} + 8q_9q_{11}q_{36} + 16q_9q_{11}q_{37} + 32q_9q_{11}q_{38} + 64q_9q_{11}q_{39} - 12q_{10}q_{36} - 24q_{10}q_{37} - 48q_{10}q_{38} - 96q_{10}q_{39} - 12q_{11}q_{36} - 24q_{11}q_{37} - 48q_{11}q_{38} - 96q_{11}q_{39} + q_{36} + 4q_{36}q_{37} + 8q_{36}q_{38} + 16q_{36}q_{39} + 4q_{37} + 16q_{37}q_{38} + 32q_{37}q_{39} + 16q_{38} + 64q_{38}q_{39} + 64q_{39})$"
          },
          "metadata": {}
        },
        {
          "output_type": "display_data",
          "data": {
            "text/plain": [
              "<IPython.core.display.Math object>"
            ],
            "text/latex": "$\\displaystyle E_{\\mathrm{pair}} = -10 \\times (72 + 20q_1 + 24q_2 + 20q_3 + 24q_4 + 20q_5 + 24q_6 + 20q_7 + 24q_8 + 20q_9 + 16q_{10} + 12q_{11} - 12q_1q_3 - 12q_1q_5 - 8q_1q_7 - 8q_1q_9 - 4q_1q_{11} - 12q_2q_4 - 8q_2q_6 - 8q_2q_8 - 4q_2q_{10} - 12q_3q_5 - 8q_3q_7 - 8q_3q_9 - 4q_3q_{11} - 8q_4q_6 - 8q_4q_8 - 4q_4q_{10} - 8q_5q_7 - 8q_5q_9 - 4q_5q_{11} - 12q_6q_8 - 8q_6q_{10} - 12q_7q_9 - 8q_7q_{11} - 8q_8q_{10} - 8q_9q_{11})$"
          },
          "metadata": {}
        },
        {
          "output_type": "display_data",
          "data": {
            "text/plain": [
              "<IPython.core.display.Math object>"
            ],
            "text/latex": "$\\displaystyle E_{\\mathrm{overll}} = 1251000q_1q_2 + 1470000q_2q_3 - 774000q_1q_2q_3 + 1467000q_3q_4 - 918000q_3q_4q_5 - 726000q_2q_3q_4 + 492000q_2q_3q_4q_5 + 1467000q_2q_5 - 726000q_2q_4q_5 - 918000q_2q_3q_5 + 1686000q_4q_5 + 1611000q_5q_6 - 918000q_5q_6q_7 - 822000q_4q_5q_6 + 492000q_4q_5q_6q_7 + 1611000q_4q_7 - 822000q_4q_6q_7 - 918000q_4q_5q_7 + 1614000q_6q_7 + 1395000q_7q_8 - 774000q_7q_8q_9 - 678000q_6q_7q_8 + 396000q_6q_7q_8q_9 + 1395000q_6q_9 - 678000q_6q_8q_9 - 774000q_6q_7q_9 + 1398000q_8q_9 + 819000q_9q_{10} - 390000q_9q_{10}q_{11} - 390000q_8q_9q_{10} + 204000q_8q_9q_{10}q_{11} + 819000q_8q_{11} - 390000q_8q_{10}q_{11} - 390000q_8q_9q_{11} + 819000q_{10}q_{11} + 6792720 + 3647800q_1 + 5099760q_2 + 3755800q_3 + 5207760q_4 + 3863800q_5 - 1631880q_1q_3 - 1631880q_1q_5 - 1655880q_3q_5 - 33000q_{12} - 60000q_{13} - 96000q_{14} - 96000q_{15} + 1248000q_1q_4 - 576000q_1q_2q_4 - 12000q_1q_{12} - 24000q_1q_{13} - 48000q_1q_{14} - 96000q_1q_{15} - 768000q_1q_2q_5 - 36000q_2q_{12} - 72000q_2q_{13} - 144000q_2q_{14} - 288000q_2q_{15} - 12000q_3q_{12} - 24000q_3q_{13} - 48000q_3q_{14} - 96000q_3q_{15} - 768000q_1q_3q_4 - 768000q_1q_4q_5 - 36000q_4q_{12} - 72000q_4q_{13} - 144000q_4q_{14} - 288000q_4q_{15} - 12000q_5q_{12} - 24000q_5q_{13} - 48000q_5q_{14} - 96000q_5q_{15} + 384000q_1q_2q_3q_4 + 24000q_1q_3q_{12} + 48000q_1q_3q_{13} + 96000q_1q_3q_{14} + 192000q_1q_3q_{15} + 384000q_1q_2q_4q_5 + 24000q_1q_5q_{12} + 48000q_1q_5q_{13} + 96000q_1q_5q_{14} + 192000q_1q_5q_{15} - 1463880q_2q_4 + 24000q_2q_4q_{12} + 48000q_2q_4q_{13} + 96000q_2q_4q_{14} + 192000q_2q_4q_{15} + 24000q_3q_5q_{12} + 48000q_3q_5q_{13} + 96000q_3q_5q_{14} + 192000q_3q_5q_{15} + 12000q_{12}q_{13} + 24000q_{12}q_{14} + 48000q_{12}q_{15} + 48000q_{13}q_{14} + 96000q_{13}q_{15} + 192000q_{14}q_{15} + 4883760q_6 + 3779800q_7 + 4775760q_8 + 3671800q_9 - 1463920q_1q_7 - 1439920q_1q_9 - 1295920q_2q_6 - 1271920q_2q_8 - 1487920q_3q_7 - 1463920q_3q_9 - 1319920q_4q_6 - 1295920q_4q_8 - 1511920q_5q_7 - 1487920q_5q_9 - 1295880q_6q_8 - 1487880q_7q_9 - 225000q_{20} - 444000q_{21} - 864000q_{22} - 1632000q_{23} - 2880000q_{24} - 4224000q_{25} + 1176000q_1q_6 + 960000q_1q_8 - 528000q_1q_2q_6 - 384000q_1q_2q_8 - 720000q_1q_3q_7 - 576000q_1q_3q_9 - 528000q_1q_4q_6 - 384000q_1q_4q_8 - 720000q_1q_5q_7 - 576000q_1q_5q_9 - 384000q_1q_6q_8 - 576000q_1q_7q_9 - 36000q_1q_{20} - 72000q_1q_{21} - 144000q_1q_{22} - 288000q_1q_{23} - 576000q_1q_{24} - 1152000q_1q_{25} + 1392000q_2q_7 + 1176000q_2q_9 - 624000q_1q_2q_7 - 480000q_1q_2q_9 - 768000q_2q_3q_7 - 624000q_2q_3q_9 - 1152000q_2q_4q_6 - 1008000q_2q_4q_8 - 768000q_2q_5q_7 - 624000q_2q_5q_9 - 1008000q_2q_6q_8 - 624000q_2q_7q_9 - 60000q_2q_{20} - 120000q_2q_{21} - 240000q_2q_{22} - 480000q_2q_{23} - 960000q_2q_{24} - 1920000q_2q_{25} + 1392000q_3q_6 + 1176000q_3q_8 - 672000q_2q_3q_6 - 528000q_2q_3q_8 - 672000q_3q_4q_6 - 528000q_3q_4q_8 - 864000q_3q_5q_7 - 720000q_3q_5q_9 - 528000q_3q_6q_8 - 720000q_3q_7q_9 - 36000q_3q_{20} - 72000q_3q_{21} - 144000q_3q_{22} - 288000q_3q_{23} - 576000q_3q_{24} - 1152000q_3q_{25} + 1392000q_4q_9 - 624000q_1q_4q_7 - 480000q_1q_4q_9 - 768000q_3q_4q_7 - 624000q_3q_4q_9 - 768000q_4q_5q_9 - 1152000q_4q_6q_8 - 768000q_4q_7q_9 - 60000q_4q_{20} - 120000q_4q_{21} - 240000q_4q_{22} - 480000q_4q_{23} - 960000q_4q_{24} - 1920000q_4q_{25} + 1392000q_5q_8 - 672000q_2q_5q_6 - 528000q_2q_5q_8 - 672000q_4q_5q_8 - 672000q_5q_6q_8 - 864000q_5q_7q_9 - 36000q_5q_{20} - 72000q_5q_{21} - 144000q_5q_{22} - 288000q_5q_{23} - 576000q_5q_{24} - 1152000q_5q_{25} - 624000q_1q_3q_6 - 624000q_1q_5q_6 - 624000q_1q_6q_7 - 480000q_1q_6q_9 - 768000q_3q_5q_6 - 768000q_3q_6q_7 - 624000q_3q_6q_9 - 768000q_5q_6q_9 - 60000q_6q_{20} - 120000q_6q_{21} - 240000q_6q_{22} - 480000q_6q_{23} - 960000q_6q_{24} - 1920000q_6q_{25} - 672000q_2q_4q_7 - 672000q_2q_6q_7 - 528000q_2q_7q_8 - 672000q_4q_7q_8 - 36000q_7q_{20} - 72000q_7q_{21} - 144000q_7q_{22} - 288000q_7q_{23} - 576000q_7q_{24} - 1152000q_7q_{25} - 480000q_1q_3q_8 - 480000q_1q_5q_8 - 480000q_1q_7q_8 - 480000q_1q_8q_9 - 624000q_3q_5q_8 - 624000q_3q_7q_8 - 624000q_3q_8q_9 - 768000q_5q_7q_8 - 768000q_5q_8q_9 - 60000q_8q_{20} - 120000q_8q_{21} - 240000q_8q_{22} - 480000q_8q_{23} - 960000q_8q_{24} - 1920000q_8q_{25} - 528000q_2q_4q_9 - 528000q_2q_6q_9 - 528000q_2q_8q_9 - 672000q_4q_6q_9 - 672000q_4q_8q_9 - 36000q_9q_{20} - 72000q_9q_{21} - 144000q_9q_{22} - 288000q_9q_{23} - 576000q_9q_{24} - 1152000q_9q_{25} + 288000q_1q_2q_3q_6 + 192000q_1q_2q_3q_8 + 288000q_1q_3q_4q_6 + 192000q_1q_3q_4q_8 + 864000q_1q_3q_5q_7 + 576000q_1q_3q_5q_9 + 192000q_1q_3q_6q_8 + 576000q_1q_3q_7q_9 + 24000q_1q_3q_{20} + 48000q_1q_3q_{21} + 96000q_1q_3q_{22} + 192000q_1q_3q_{23} + 384000q_1q_3q_{24} + 768000q_1q_3q_{25} + 288000q_1q_2q_5q_6 + 192000q_1q_2q_5q_8 + 288000q_1q_4q_5q_6 + 192000q_1q_4q_5q_8 + 192000q_1q_5q_6q_8 + 576000q_1q_5q_7q_9 + 24000q_1q_5q_{20} + 48000q_1q_5q_{21} + 96000q_1q_5q_{22} + 192000q_1q_5q_{23} + 384000q_1q_5q_{24} + 768000q_1q_5q_{25} + 288000q_1q_2q_4q_7 + 288000q_1q_2q_6q_7 + 192000q_1q_2q_7q_8 + 288000q_1q_4q_6q_7 + 192000q_1q_4q_7q_8 + 192000q_1q_6q_7q_8 + 24000q_1q_7q_{20} + 48000q_1q_7q_{21} + 96000q_1q_7q_{22} + 192000q_1q_7q_{23} + 384000q_1q_7q_{24} + 768000q_1q_7q_{25} + 192000q_1q_2q_4q_9 + 192000q_1q_2q_6q_9 + 192000q_1q_2q_8q_9 + 192000q_1q_4q_6q_9 + 192000q_1q_4q_8q_9 + 192000q_1q_6q_8q_9 + 24000q_1q_9q_{20} + 48000q_1q_9q_{21} + 96000q_1q_9q_{22} + 192000q_1q_9q_{23} + 384000q_1q_9q_{24} + 768000q_1q_9q_{25} + 384000q_2q_3q_4q_7 + 288000q_2q_3q_4q_9 + 384000q_2q_4q_5q_7 + 288000q_2q_4q_5q_9 + 864000q_2q_4q_6q_8 + 288000q_2q_4q_7q_9 + 24000q_2q_4q_{20} + 48000q_2q_4q_{21} + 96000q_2q_4q_{22} + 192000q_2q_4q_{23} + 384000q_2q_4q_{24} + 768000q_2q_4q_{25} + 384000q_2q_3q_5q_6 + 384000q_2q_3q_6q_7 + 288000q_2q_3q_6q_9 + 384000q_2q_5q_6q_7 + 288000q_2q_5q_6q_9 + 288000q_2q_6q_7q_9 + 24000q_2q_6q_{20} + 48000q_2q_6q_{21} + 96000q_2q_6q_{22} + 192000q_2q_6q_{23} + 384000q_2q_6q_{24} + 768000q_2q_6q_{25} + 288000q_2q_3q_5q_8 + 288000q_2q_3q_7q_8 + 288000q_2q_3q_8q_9 + 288000q_2q_5q_7q_8 + 288000q_2q_5q_8q_9 + 288000q_2q_7q_8q_9 + 24000q_2q_8q_{20} + 48000q_2q_8q_{21} + 96000q_2q_8q_{22} + 192000q_2q_8q_{23} + 384000q_2q_8q_{24} + 768000q_2q_8q_{25} + 384000q_3q_4q_5q_6 + 288000q_3q_4q_5q_8 + 288000q_3q_5q_6q_8 + 864000q_3q_5q_7q_9 + 24000q_3q_5q_{20} + 48000q_3q_5q_{21} + 96000q_3q_5q_{22} + 192000q_3q_5q_{23} + 384000q_3q_5q_{24} + 768000q_3q_5q_{25} + 384000q_3q_4q_6q_7 + 288000q_3q_4q_7q_8 + 288000q_3q_6q_7q_8 + 24000q_3q_7q_{20} + 48000q_3q_7q_{21} + 96000q_3q_7q_{22} + 192000q_3q_7q_{23} + 384000q_3q_7q_{24} + 768000q_3q_7q_{25} + 288000q_3q_4q_6q_9 + 288000q_3q_4q_8q_9 + 288000q_3q_6q_8q_9 + 24000q_3q_9q_{20} + 48000q_3q_9q_{21} + 96000q_3q_9q_{22} + 192000q_3q_9q_{23} + 384000q_3q_9q_{24} + 768000q_3q_9q_{25} + 384000q_4q_5q_6q_9 + 384000q_4q_6q_7q_9 + 24000q_4q_6q_{20} + 48000q_4q_6q_{21} + 96000q_4q_6q_{22} + 192000q_4q_6q_{23} + 384000q_4q_6q_{24} + 768000q_4q_6q_{25} + 384000q_4q_5q_7q_8 + 384000q_4q_5q_8q_9 + 384000q_4q_7q_8q_9 + 24000q_4q_8q_{20} + 48000q_4q_8q_{21} + 96000q_4q_8q_{22} + 192000q_4q_8q_{23} + 384000q_4q_8q_{24} + 768000q_4q_8q_{25} + 384000q_5q_6q_7q_8 + 24000q_5q_7q_{20} + 48000q_5q_7q_{21} + 96000q_5q_7q_{22} + 192000q_5q_7q_{23} + 384000q_5q_7q_{24} + 768000q_5q_7q_{25} + 384000q_5q_6q_8q_9 + 24000q_5q_9q_{20} + 48000q_5q_9q_{21} + 96000q_5q_9q_{22} + 192000q_5q_9q_{23} + 384000q_5q_9q_{24} + 768000q_5q_9q_{25} + 24000q_6q_8q_{20} + 48000q_6q_8q_{21} + 96000q_6q_8q_{22} + 192000q_6q_8q_{23} + 384000q_6q_8q_{24} + 768000q_6q_8q_{25} + 24000q_7q_9q_{20} + 48000q_7q_9q_{21} + 96000q_7q_9q_{22} + 192000q_7q_9q_{23} + 384000q_7q_9q_{24} + 768000q_7q_9q_{25} + 12000q_{20}q_{21} + 24000q_{20}q_{22} + 48000q_{20}q_{23} + 96000q_{20}q_{24} + 192000q_{20}q_{25} + 48000q_{21}q_{22} + 96000q_{21}q_{23} + 192000q_{21}q_{24} + 384000q_{21}q_{25} + 192000q_{22}q_{23} + 384000q_{22}q_{24} + 768000q_{22}q_{25} + 768000q_{23}q_{24} + 1536000q_{23}q_{25} + 3072000q_{24}q_{25} - 36000q_1q_{16} - 72000q_1q_{17} - 144000q_1q_{18} - 288000q_1q_{19} + 24000q_1q_3q_{16} + 48000q_1q_3q_{17} + 96000q_1q_3q_{18} + 192000q_1q_3q_{19} - 576000q_1q_3q_5 + 24000q_1q_5q_{16} + 48000q_1q_5q_{17} + 96000q_1q_5q_{18} + 192000q_1q_5q_{19} + 24000q_1q_7q_{16} + 48000q_1q_7q_{17} + 96000q_1q_7q_{18} + 192000q_1q_7q_{19} - 36000q_2q_{16} - 72000q_2q_{17} - 144000q_2q_{18} - 288000q_2q_{19} + 24000q_2q_4q_{16} + 48000q_2q_4q_{17} + 96000q_2q_4q_{18} + 192000q_2q_4q_{19} + 24000q_2q_6q_{16} + 48000q_2q_6q_{17} + 96000q_2q_6q_{18} + 192000q_2q_6q_{19} - 36000q_3q_{16} - 72000q_3q_{17} - 144000q_3q_{18} - 288000q_3q_{19} + 24000q_3q_5q_{16} + 48000q_3q_5q_{17} + 96000q_3q_5q_{18} + 192000q_3q_5q_{19} + 24000q_3q_7q_{16} + 48000q_3q_7q_{17} + 96000q_3q_7q_{18} + 192000q_3q_7q_{19} - 36000q_4q_{16} - 72000q_4q_{17} - 144000q_4q_{18} - 288000q_4q_{19} + 24000q_4q_6q_{16} + 48000q_4q_6q_{17} + 96000q_4q_6q_{18} + 192000q_4q_6q_{19} - 36000q_5q_{16} - 72000q_5q_{17} - 144000q_5q_{18} - 288000q_5q_{19} + 24000q_5q_7q_{16} + 48000q_5q_7q_{17} + 96000q_5q_7q_{18} + 192000q_5q_7q_{19} - 36000q_6q_{16} - 72000q_6q_{17} - 144000q_6q_{18} - 288000q_6q_{19} - 36000q_7q_{16} - 72000q_7q_{17} - 144000q_7q_{18} - 288000q_7q_{19} + 3000q_{16} + 12000q_{16}q_{17} + 24000q_{16}q_{18} + 48000q_{16}q_{19} + 12000q_{17} + 48000q_{17}q_{18} + 96000q_{17}q_{19} + 48000q_{18} + 192000q_{18}q_{19} + 192000q_{19} - 503960q_1q_{11} - 503960q_2q_{10} - 503960q_3q_{11} - 527960q_4q_{10} - 527960q_5q_{11} - 527920q_6q_{10} - 527920q_7q_{11} - 527920q_8q_{10} - 527920q_9q_{11} + 2087840q_{10} + 2087880q_{11} - 165000q_{30} - 324000q_{31} - 624000q_{32} - 1152000q_{33} - 1920000q_{34} - 2304000q_{35} - 240000q_1q_2q_{10} - 432000q_1q_3q_{11} - 240000q_1q_4q_{10} - 432000q_1q_5q_{11} - 240000q_1q_6q_{10} - 432000q_1q_7q_{11} - 240000q_1q_8q_{10} - 432000q_1q_9q_{11} + 600000q_1q_{10} - 60000q_1q_{30} - 120000q_1q_{31} - 240000q_1q_{32} - 480000q_1q_{33} - 960000q_1q_{34} - 1920000q_1q_{35} + 96000q_1q_2q_3q_{10} + 96000q_1q_3q_4q_{10} + 288000q_1q_3q_5q_{11} + 96000q_1q_3q_6q_{10} + 288000q_1q_3q_7q_{11} + 96000q_1q_3q_8q_{10} + 288000q_1q_3q_9q_{11} - 240000q_1q_3q_{10} + 24000q_1q_3q_{30} + 48000q_1q_3q_{31} + 96000q_1q_3q_{32} + 192000q_1q_3q_{33} + 384000q_1q_3q_{34} + 768000q_1q_3q_{35} + 96000q_1q_2q_5q_{10} + 96000q_1q_4q_5q_{10} + 96000q_1q_5q_6q_{10} + 288000q_1q_5q_7q_{11} + 96000q_1q_5q_8q_{10} + 288000q_1q_5q_9q_{11} - 240000q_1q_5q_{10} + 24000q_1q_5q_{30} + 48000q_1q_5q_{31} + 96000q_1q_5q_{32} + 192000q_1q_5q_{33} + 384000q_1q_5q_{34} + 768000q_1q_5q_{35} + 96000q_1q_2q_7q_{10} + 96000q_1q_4q_7q_{10} + 96000q_1q_6q_7q_{10} + 96000q_1q_7q_8q_{10} + 288000q_1q_7q_9q_{11} - 240000q_1q_7q_{10} + 24000q_1q_7q_{30} + 48000q_1q_7q_{31} + 96000q_1q_7q_{32} + 192000q_1q_7q_{33} + 384000q_1q_7q_{34} + 768000q_1q_7q_{35} + 96000q_1q_2q_9q_{10} + 96000q_1q_4q_9q_{10} + 96000q_1q_6q_9q_{10} + 96000q_1q_8q_9q_{10} - 240000q_1q_9q_{10} + 24000q_1q_9q_{30} + 48000q_1q_9q_{31} + 96000q_1q_9q_{32} + 192000q_1q_9q_{33} + 384000q_1q_9q_{34} + 768000q_1q_9q_{35} - 240000q_1q_2q_{11} + 96000q_1q_2q_4q_{11} + 96000q_1q_2q_6q_{11} + 96000q_1q_2q_8q_{11} + 96000q_1q_2q_{10}q_{11} - 240000q_1q_4q_{11} + 96000q_1q_4q_6q_{11} + 96000q_1q_4q_8q_{11} + 96000q_1q_4q_{10}q_{11} - 240000q_1q_6q_{11} + 96000q_1q_6q_8q_{11} + 96000q_1q_6q_{10}q_{11} - 240000q_1q_8q_{11} + 96000q_1q_8q_{10}q_{11} - 240000q_1q_{10}q_{11} + 24000q_1q_{11}q_{30} + 48000q_1q_{11}q_{31} + 96000q_1q_{11}q_{32} + 192000q_1q_{11}q_{33} + 384000q_1q_{11}q_{34} + 768000q_1q_{11}q_{35} - 240000q_2q_3q_{11} - 432000q_2q_4q_{10} - 240000q_2q_5q_{11} - 432000q_2q_6q_{10} - 240000q_2q_7q_{11} - 432000q_2q_8q_{10} - 240000q_2q_9q_{11} + 600000q_2q_{11} - 60000q_2q_{30} - 120000q_2q_{31} - 240000q_2q_{32} - 480000q_2q_{33} - 960000q_2q_{34} - 1920000q_2q_{35} + 96000q_2q_3q_4q_{11} + 96000q_2q_4q_5q_{11} + 288000q_2q_4q_6q_{10} + 96000q_2q_4q_7q_{11} + 288000q_2q_4q_8q_{10} + 96000q_2q_4q_9q_{11} - 240000q_2q_4q_{11} + 24000q_2q_4q_{30} + 48000q_2q_4q_{31} + 96000q_2q_4q_{32} + 192000q_2q_4q_{33} + 384000q_2q_4q_{34} + 768000q_2q_4q_{35} + 96000q_2q_3q_6q_{11} + 96000q_2q_5q_6q_{11} + 96000q_2q_6q_7q_{11} + 288000q_2q_6q_8q_{10} + 96000q_2q_6q_9q_{11} - 240000q_2q_6q_{11} + 24000q_2q_6q_{30} + 48000q_2q_6q_{31} + 96000q_2q_6q_{32} + 192000q_2q_6q_{33} + 384000q_2q_6q_{34} + 768000q_2q_6q_{35} + 96000q_2q_3q_8q_{11} + 96000q_2q_5q_8q_{11} + 96000q_2q_7q_8q_{11} + 96000q_2q_8q_9q_{11} - 240000q_2q_8q_{11} + 24000q_2q_8q_{30} + 48000q_2q_8q_{31} + 96000q_2q_8q_{32} + 192000q_2q_8q_{33} + 384000q_2q_8q_{34} + 768000q_2q_8q_{35} - 240000q_2q_3q_{10} + 96000q_2q_3q_5q_{10} + 96000q_2q_3q_7q_{10} + 96000q_2q_3q_9q_{10} + 96000q_2q_3q_{10}q_{11} - 240000q_2q_5q_{10} + 96000q_2q_5q_7q_{10} + 96000q_2q_5q_9q_{10} + 96000q_2q_5q_{10}q_{11} - 240000q_2q_7q_{10} + 96000q_2q_7q_9q_{10} + 96000q_2q_7q_{10}q_{11} - 240000q_2q_9q_{10} + 96000q_2q_9q_{10}q_{11} - 240000q_2q_{10}q_{11} + 24000q_2q_{10}q_{30} + 48000q_2q_{10}q_{31} + 96000q_2q_{10}q_{32} + 192000q_2q_{10}q_{33} + 384000q_2q_{10}q_{34} + 768000q_2q_{10}q_{35} - 240000q_3q_4q_{10} - 432000q_3q_5q_{11} - 240000q_3q_6q_{10} - 432000q_3q_7q_{11} - 240000q_3q_8q_{10} - 432000q_3q_9q_{11} + 600000q_3q_{10} - 60000q_3q_{30} - 120000q_3q_{31} - 240000q_3q_{32} - 480000q_3q_{33} - 960000q_3q_{34} - 1920000q_3q_{35} + 96000q_3q_4q_5q_{10} + 96000q_3q_5q_6q_{10} + 288000q_3q_5q_7q_{11} + 96000q_3q_5q_8q_{10} + 288000q_3q_5q_9q_{11} - 240000q_3q_5q_{10} + 24000q_3q_5q_{30} + 48000q_3q_5q_{31} + 96000q_3q_5q_{32} + 192000q_3q_5q_{33} + 384000q_3q_5q_{34} + 768000q_3q_5q_{35} + 96000q_3q_4q_7q_{10} + 96000q_3q_6q_7q_{10} + 96000q_3q_7q_8q_{10} + 288000q_3q_7q_9q_{11} - 240000q_3q_7q_{10} + 24000q_3q_7q_{30} + 48000q_3q_7q_{31} + 96000q_3q_7q_{32} + 192000q_3q_7q_{33} + 384000q_3q_7q_{34} + 768000q_3q_7q_{35} + 96000q_3q_4q_9q_{10} + 96000q_3q_6q_9q_{10} + 96000q_3q_8q_9q_{10} - 240000q_3q_9q_{10} + 24000q_3q_9q_{30} + 48000q_3q_9q_{31} + 96000q_3q_9q_{32} + 192000q_3q_9q_{33} + 384000q_3q_9q_{34} + 768000q_3q_9q_{35} - 240000q_3q_4q_{11} + 96000q_3q_4q_6q_{11} + 96000q_3q_4q_8q_{11} + 96000q_3q_4q_{10}q_{11} - 240000q_3q_6q_{11} + 96000q_3q_6q_8q_{11} + 96000q_3q_6q_{10}q_{11} - 240000q_3q_8q_{11} + 96000q_3q_8q_{10}q_{11} - 240000q_3q_{10}q_{11} + 24000q_3q_{11}q_{30} + 48000q_3q_{11}q_{31} + 96000q_3q_{11}q_{32} + 192000q_3q_{11}q_{33} + 384000q_3q_{11}q_{34} + 768000q_3q_{11}q_{35} - 384000q_4q_5q_{11} - 576000q_4q_6q_{10} - 384000q_4q_7q_{11} - 576000q_4q_8q_{10} - 384000q_4q_9q_{11} + 816000q_4q_{11} - 60000q_4q_{30} - 120000q_4q_{31} - 240000q_4q_{32} - 480000q_4q_{33} - 960000q_4q_{34} - 1920000q_4q_{35} + 192000q_4q_5q_6q_{11} + 192000q_4q_6q_7q_{11} + 576000q_4q_6q_8q_{10} + 192000q_4q_6q_9q_{11} - 384000q_4q_6q_{11} + 24000q_4q_6q_{30} + 48000q_4q_6q_{31} + 96000q_4q_6q_{32} + 192000q_4q_6q_{33} + 384000q_4q_6q_{34} + 768000q_4q_6q_{35} + 192000q_4q_5q_8q_{11} + 192000q_4q_7q_8q_{11} + 192000q_4q_8q_9q_{11} - 384000q_4q_8q_{11} + 24000q_4q_8q_{30} + 48000q_4q_8q_{31} + 96000q_4q_8q_{32} + 192000q_4q_8q_{33} + 384000q_4q_8q_{34} + 768000q_4q_8q_{35} - 384000q_4q_5q_{10} + 192000q_4q_5q_7q_{10} + 192000q_4q_5q_9q_{10} + 192000q_4q_5q_{10}q_{11} - 384000q_4q_7q_{10} + 192000q_4q_7q_9q_{10} + 192000q_4q_7q_{10}q_{11} - 384000q_4q_9q_{10} + 192000q_4q_9q_{10}q_{11} - 384000q_4q_{10}q_{11} + 24000q_4q_{10}q_{30} + 48000q_4q_{10}q_{31} + 96000q_4q_{10}q_{32} + 192000q_4q_{10}q_{33} + 384000q_4q_{10}q_{34} + 768000q_4q_{10}q_{35} - 384000q_5q_6q_{10} - 576000q_5q_7q_{11} - 384000q_5q_8q_{10} - 576000q_5q_9q_{11} + 816000q_5q_{10} - 60000q_5q_{30} - 120000q_5q_{31} - 240000q_5q_{32} - 480000q_5q_{33} - 960000q_5q_{34} - 1920000q_5q_{35} + 192000q_5q_6q_7q_{10} + 192000q_5q_7q_8q_{10} + 576000q_5q_7q_9q_{11} - 384000q_5q_7q_{10} + 24000q_5q_7q_{30} + 48000q_5q_7q_{31} + 96000q_5q_7q_{32} + 192000q_5q_7q_{33} + 384000q_5q_7q_{34} + 768000q_5q_7q_{35} + 192000q_5q_6q_9q_{10} + 192000q_5q_8q_9q_{10} - 384000q_5q_9q_{10} + 24000q_5q_9q_{30} + 48000q_5q_9q_{31} + 96000q_5q_9q_{32} + 192000q_5q_9q_{33} + 384000q_5q_9q_{34} + 768000q_5q_9q_{35} - 384000q_5q_6q_{11} + 192000q_5q_6q_8q_{11} + 192000q_5q_6q_{10}q_{11} - 384000q_5q_8q_{11} + 192000q_5q_8q_{10}q_{11} - 384000q_5q_{10}q_{11} + 24000q_5q_{11}q_{30} + 48000q_5q_{11}q_{31} + 96000q_5q_{11}q_{32} + 192000q_5q_{11}q_{33} + 384000q_5q_{11}q_{34} + 768000q_5q_{11}q_{35} - 384000q_6q_7q_{11} - 576000q_6q_8q_{10} - 384000q_6q_9q_{11} + 816000q_6q_{11} - 60000q_6q_{30} - 120000q_6q_{31} - 240000q_6q_{32} - 480000q_6q_{33} - 960000q_6q_{34} - 1920000q_6q_{35} + 192000q_6q_7q_8q_{11} + 192000q_6q_8q_9q_{11} - 384000q_6q_8q_{11} + 24000q_6q_8q_{30} + 48000q_6q_8q_{31} + 96000q_6q_8q_{32} + 192000q_6q_8q_{33} + 384000q_6q_8q_{34} + 768000q_6q_8q_{35} - 384000q_6q_7q_{10} + 192000q_6q_7q_9q_{10} + 192000q_6q_7q_{10}q_{11} - 384000q_6q_9q_{10} + 192000q_6q_9q_{10}q_{11} - 384000q_6q_{10}q_{11} + 24000q_6q_{10}q_{30} + 48000q_6q_{10}q_{31} + 96000q_6q_{10}q_{32} + 192000q_6q_{10}q_{33} + 384000q_6q_{10}q_{34} + 768000q_6q_{10}q_{35} - 384000q_7q_8q_{10} - 576000q_7q_9q_{11} + 816000q_7q_{10} - 60000q_7q_{30} - 120000q_7q_{31} - 240000q_7q_{32} - 480000q_7q_{33} - 960000q_7q_{34} - 1920000q_7q_{35} + 192000q_7q_8q_9q_{10} - 384000q_7q_9q_{10} + 24000q_7q_9q_{30} + 48000q_7q_9q_{31} + 96000q_7q_9q_{32} + 192000q_7q_9q_{33} + 384000q_7q_9q_{34} + 768000q_7q_9q_{35} - 384000q_7q_8q_{11} + 192000q_7q_8q_{10}q_{11} - 384000q_7q_{10}q_{11} + 24000q_7q_{11}q_{30} + 48000q_7q_{11}q_{31} + 96000q_7q_{11}q_{32} + 192000q_7q_{11}q_{33} + 384000q_7q_{11}q_{34} + 768000q_7q_{11}q_{35} - 60000q_8q_{30} - 120000q_8q_{31} - 240000q_8q_{32} - 480000q_8q_{33} - 960000q_8q_{34} - 1920000q_8q_{35} + 24000q_8q_{10}q_{30} + 48000q_8q_{10}q_{31} + 96000q_8q_{10}q_{32} + 192000q_8q_{10}q_{33} + 384000q_8q_{10}q_{34} + 768000q_8q_{10}q_{35} - 60000q_9q_{30} - 120000q_9q_{31} - 240000q_9q_{32} - 480000q_9q_{33} - 960000q_9q_{34} - 1920000q_9q_{35} + 24000q_9q_{11}q_{30} + 48000q_9q_{11}q_{31} + 96000q_9q_{11}q_{32} + 192000q_9q_{11}q_{33} + 384000q_9q_{11}q_{34} + 768000q_9q_{11}q_{35} - 60000q_{10}q_{30} - 120000q_{10}q_{31} - 240000q_{10}q_{32} - 480000q_{10}q_{33} - 960000q_{10}q_{34} - 1920000q_{10}q_{35} - 60000q_{11}q_{30} - 120000q_{11}q_{31} - 240000q_{11}q_{32} - 480000q_{11}q_{33} - 960000q_{11}q_{34} - 1920000q_{11}q_{35} + 12000q_{30}q_{31} + 24000q_{30}q_{32} + 48000q_{30}q_{33} + 96000q_{30}q_{34} + 192000q_{30}q_{35} + 48000q_{31}q_{32} + 96000q_{31}q_{33} + 192000q_{31}q_{34} + 384000q_{31}q_{35} + 192000q_{32}q_{33} + 384000q_{32}q_{34} + 768000q_{32}q_{35} + 768000q_{33}q_{34} + 1536000q_{33}q_{35} + 3072000q_{34}q_{35} - 36000q_2q_{26} - 72000q_2q_{27} - 144000q_2q_{28} - 288000q_2q_{29} + 24000q_2q_4q_{26} + 48000q_2q_4q_{27} + 96000q_2q_4q_{28} + 192000q_2q_4q_{29} + 24000q_2q_6q_{26} + 48000q_2q_6q_{27} + 96000q_2q_6q_{28} + 192000q_2q_6q_{29} + 24000q_2q_8q_{26} + 48000q_2q_8q_{27} + 96000q_2q_8q_{28} + 192000q_2q_8q_{29} - 36000q_3q_{26} - 72000q_3q_{27} - 144000q_3q_{28} - 288000q_3q_{29} + 24000q_3q_5q_{26} + 48000q_3q_5q_{27} + 96000q_3q_5q_{28} + 192000q_3q_5q_{29} + 24000q_3q_7q_{26} + 48000q_3q_7q_{27} + 96000q_3q_7q_{28} + 192000q_3q_7q_{29} + 24000q_3q_9q_{26} + 48000q_3q_9q_{27} + 96000q_3q_9q_{28} + 192000q_3q_9q_{29} - 36000q_4q_{26} - 72000q_4q_{27} - 144000q_4q_{28} - 288000q_4q_{29} + 24000q_4q_6q_{26} + 48000q_4q_6q_{27} + 96000q_4q_6q_{28} + 192000q_4q_6q_{29} + 24000q_4q_8q_{26} + 48000q_4q_8q_{27} + 96000q_4q_8q_{28} + 192000q_4q_8q_{29} - 36000q_5q_{26} - 72000q_5q_{27} - 144000q_5q_{28} - 288000q_5q_{29} + 24000q_5q_7q_{26} + 48000q_5q_7q_{27} + 96000q_5q_7q_{28} + 192000q_5q_7q_{29} + 24000q_5q_9q_{26} + 48000q_5q_9q_{27} + 96000q_5q_9q_{28} + 192000q_5q_9q_{29} - 36000q_6q_{26} - 72000q_6q_{27} - 144000q_6q_{28} - 288000q_6q_{29} + 24000q_6q_8q_{26} + 48000q_6q_8q_{27} + 96000q_6q_8q_{28} + 192000q_6q_8q_{29} - 36000q_7q_{26} - 72000q_7q_{27} - 144000q_7q_{28} - 288000q_7q_{29} + 24000q_7q_9q_{26} + 48000q_7q_9q_{27} + 96000q_7q_9q_{28} + 192000q_7q_9q_{29} - 36000q_8q_{26} - 72000q_8q_{27} - 144000q_8q_{28} - 288000q_8q_{29} - 36000q_9q_{26} - 72000q_9q_{27} - 144000q_9q_{28} - 288000q_9q_{29} + 3000q_{26} + 12000q_{26}q_{27} + 24000q_{26}q_{28} + 48000q_{26}q_{29} + 12000q_{27} + 48000q_{27}q_{28} + 96000q_{27}q_{29} + 48000q_{28} + 192000q_{28}q_{29} + 192000q_{29} - 36000q_4q_{36} - 72000q_4q_{37} - 144000q_4q_{38} - 288000q_4q_{39} + 24000q_4q_6q_{36} + 48000q_4q_6q_{37} + 96000q_4q_6q_{38} + 192000q_4q_6q_{39} + 24000q_4q_8q_{36} + 48000q_4q_8q_{37} + 96000q_4q_8q_{38} + 192000q_4q_8q_{39} + 24000q_4q_{10}q_{36} + 48000q_4q_{10}q_{37} + 96000q_4q_{10}q_{38} + 192000q_4q_{10}q_{39} - 36000q_5q_{36} - 72000q_5q_{37} - 144000q_5q_{38} - 288000q_5q_{39} + 24000q_5q_7q_{36} + 48000q_5q_7q_{37} + 96000q_5q_7q_{38} + 192000q_5q_7q_{39} + 24000q_5q_9q_{36} + 48000q_5q_9q_{37} + 96000q_5q_9q_{38} + 192000q_5q_9q_{39} + 24000q_5q_{11}q_{36} + 48000q_5q_{11}q_{37} + 96000q_5q_{11}q_{38} + 192000q_5q_{11}q_{39} - 36000q_6q_{36} - 72000q_6q_{37} - 144000q_6q_{38} - 288000q_6q_{39} + 24000q_6q_8q_{36} + 48000q_6q_8q_{37} + 96000q_6q_8q_{38} + 192000q_6q_8q_{39} + 24000q_6q_{10}q_{36} + 48000q_6q_{10}q_{37} + 96000q_6q_{10}q_{38} + 192000q_6q_{10}q_{39} - 36000q_7q_{36} - 72000q_7q_{37} - 144000q_7q_{38} - 288000q_7q_{39} + 24000q_7q_9q_{36} + 48000q_7q_9q_{37} + 96000q_7q_9q_{38} + 192000q_7q_9q_{39} + 24000q_7q_{11}q_{36} + 48000q_7q_{11}q_{37} + 96000q_7q_{11}q_{38} + 192000q_7q_{11}q_{39} - 36000q_8q_{36} - 72000q_8q_{37} - 144000q_8q_{38} - 288000q_8q_{39} + 24000q_8q_{10}q_{36} + 48000q_8q_{10}q_{37} + 96000q_8q_{10}q_{38} + 192000q_8q_{10}q_{39} - 36000q_9q_{36} - 72000q_9q_{37} - 144000q_9q_{38} - 288000q_9q_{39} + 24000q_9q_{11}q_{36} + 48000q_9q_{11}q_{37} + 96000q_9q_{11}q_{38} + 192000q_9q_{11}q_{39} - 36000q_{10}q_{36} - 72000q_{10}q_{37} - 144000q_{10}q_{38} - 288000q_{10}q_{39} - 36000q_{11}q_{36} - 72000q_{11}q_{37} - 144000q_{11}q_{38} - 288000q_{11}q_{39} + 3000q_{36} + 12000q_{36}q_{37} + 24000q_{36}q_{38} + 48000q_{36}q_{39} + 12000q_{37} + 48000q_{37}q_{38} + 96000q_{37}q_{39} + 48000q_{38} + 192000q_{38}q_{39} + 192000q_{39}$"
          },
          "metadata": {}
        }
      ]
    },
    {
      "cell_type": "code",
      "source": [
        "obj = ProteinFolding(protein = \"HPHPPHHP\")\n",
        "obj.print_summary()"
      ],
      "metadata": {
        "colab": {
          "base_uri": "https://localhost:8080/"
        },
        "id": "JHcf81mFZwcX",
        "outputId": "e7f9716d-f278-4e47-d824-c49e5cd527f8"
      },
      "execution_count": null,
      "outputs": [
        {
          "output_type": "stream",
          "name": "stdout",
          "text": [
            "Protein =  HPHPPHHP\n",
            "Amino acid beads, N =  8\n",
            "Total qubit:  39\n",
            "Number of terms in energy equation:  1110\n"
          ]
        }
      ]
    },
    {
      "cell_type": "code",
      "source": [
        "obj = ProteinFolding(protein = \"PHPHPPHHP\")\n",
        "obj.print_summary()"
      ],
      "metadata": {
        "colab": {
          "base_uri": "https://localhost:8080/"
        },
        "id": "ziGeS7GHZ8wB",
        "outputId": "4871c065-d451-48c4-c750-a40a7892d3c2"
      },
      "execution_count": null,
      "outputs": [
        {
          "output_type": "stream",
          "name": "stdout",
          "text": [
            "Protein =  PHPHPPHHP\n",
            "Amino acid beads, N =  9\n",
            "Total qubit:  57\n",
            "Number of terms in energy equation:  2129\n"
          ]
        }
      ]
    },
    {
      "cell_type": "code",
      "source": [
        "obj = ProteinFolding(protein = \"HPHPPHPHHP\")\n",
        "obj.print_summary()"
      ],
      "metadata": {
        "colab": {
          "base_uri": "https://localhost:8080/"
        },
        "id": "-7XFkPjuZ_l_",
        "outputId": "d81b1df4-a3aa-48dc-aa01-819690cd22c5"
      },
      "execution_count": null,
      "outputs": [
        {
          "output_type": "stream",
          "name": "stdout",
          "text": [
            "Protein =  HPHPPHPHHP\n",
            "Amino acid beads, N =  10\n",
            "Total qubit:  75\n",
            "Number of terms in energy equation:  3423\n"
          ]
        }
      ]
    },
    {
      "cell_type": "code",
      "source": [
        "obj = ProteinFolding(protein = \"HHPHPPPHPHP\")\n",
        "obj.print_summary()"
      ],
      "metadata": {
        "colab": {
          "base_uri": "https://localhost:8080/"
        },
        "id": "4U9MQ-wAaE5f",
        "outputId": "3882fcdd-127b-49e5-b79d-744368b3091c"
      },
      "execution_count": null,
      "outputs": [
        {
          "output_type": "stream",
          "name": "stdout",
          "text": [
            "Protein =  HHPHPPPHPHP\n",
            "Amino acid beads, N =  11\n",
            "Total qubit:  101\n",
            "Number of terms in energy equation:  5692\n"
          ]
        }
      ]
    },
    {
      "cell_type": "code",
      "source": [
        "import random\n",
        "from tabulate import tabulate\n",
        "\n",
        "# Initialize an empty list to store results\n",
        "results = []\n",
        "\n",
        "# Loop over N values from 4 to 20\n",
        "for N in range(4, 21):\n",
        "    # Generate a random protein sequence of length N\n",
        "    random_protein = ''.join(random.choices(['H', 'P'], k=N))\n",
        "\n",
        "    # Create an instance of ProteinFolding with the random protein sequence\n",
        "    obj = ProteinFolding(protein=random_protein)\n",
        "\n",
        "    # Calculate relevant quantities\n",
        "    Turn_Qubit = obj.turn_qubit\n",
        "    Ancilla_Qubit = obj.ancilla_qubit\n",
        "    Total_Qubit = obj.turn_qubit + obj.ancilla_qubit\n",
        "\n",
        "    # Store the results in a dictionary\n",
        "    results.append({'N': N, 'Turn Qubit': Turn_Qubit, 'Ancilla Qubit': Ancilla_Qubit, 'Total Qubit': Total_Qubit})\n",
        "\n",
        "# Print the stylish table\n",
        "print(tabulate(results, headers=\"keys\", tablefmt=\"fancy_grid\"))\n"
      ],
      "metadata": {
        "id": "8ST6Izjpa8m9",
        "colab": {
          "base_uri": "https://localhost:8080/"
        },
        "outputId": "7671d4e9-b248-44fd-d7b1-6712ce58bb68"
      },
      "execution_count": null,
      "outputs": [
        {
          "output_type": "stream",
          "name": "stdout",
          "text": [
            "╒═════╤══════════════╤═════════════════╤═══════════════╕\n",
            "│   N │   Turn Qubit │   Ancilla Qubit │   Total Qubit │\n",
            "╞═════╪══════════════╪═════════════════╪═══════════════╡\n",
            "│   4 │            3 │               0 │             3 │\n",
            "├─────┼──────────────┼─────────────────┼───────────────┤\n",
            "│   5 │            5 │               4 │             9 │\n",
            "├─────┼──────────────┼─────────────────┼───────────────┤\n",
            "│   6 │            7 │               8 │            15 │\n",
            "├─────┼──────────────┼─────────────────┼───────────────┤\n",
            "│   7 │            9 │              18 │            27 │\n",
            "├─────┼──────────────┼─────────────────┼───────────────┤\n",
            "│   8 │           11 │              28 │            39 │\n",
            "├─────┼──────────────┼─────────────────┼───────────────┤\n",
            "│   9 │           13 │              44 │            57 │\n",
            "├─────┼──────────────┼─────────────────┼───────────────┤\n",
            "│  10 │           15 │              60 │            75 │\n",
            "├─────┼──────────────┼─────────────────┼───────────────┤\n",
            "│  11 │           17 │              84 │           101 │\n",
            "├─────┼──────────────┼─────────────────┼───────────────┤\n",
            "│  12 │           19 │             108 │           127 │\n",
            "├─────┼──────────────┼─────────────────┼───────────────┤\n",
            "│  13 │           21 │             140 │           161 │\n",
            "├─────┼──────────────┼─────────────────┼───────────────┤\n",
            "│  14 │           23 │             172 │           195 │\n",
            "├─────┼──────────────┼─────────────────┼───────────────┤\n",
            "│  15 │           25 │             212 │           237 │\n",
            "├─────┼──────────────┼─────────────────┼───────────────┤\n",
            "│  16 │           27 │             252 │           279 │\n",
            "├─────┼──────────────┼─────────────────┼───────────────┤\n",
            "│  17 │           29 │             300 │           329 │\n",
            "├─────┼──────────────┼─────────────────┼───────────────┤\n",
            "│  18 │           31 │             348 │           379 │\n",
            "├─────┼──────────────┼─────────────────┼───────────────┤\n",
            "│  19 │           33 │             406 │           439 │\n",
            "├─────┼──────────────┼─────────────────┼───────────────┤\n",
            "│  20 │           35 │             464 │           499 │\n",
            "├─────┼──────────────┼─────────────────┼───────────────┤\n",
            "│  21 │           37 │             532 │           569 │\n",
            "├─────┼──────────────┼─────────────────┼───────────────┤\n",
            "│  22 │           39 │             600 │           639 │\n",
            "├─────┼──────────────┼─────────────────┼───────────────┤\n",
            "│  23 │           41 │             678 │           719 │\n",
            "├─────┼──────────────┼─────────────────┼───────────────┤\n",
            "│  24 │           43 │             756 │           799 │\n",
            "├─────┼──────────────┼─────────────────┼───────────────┤\n",
            "│  25 │           45 │             844 │           889 │\n",
            "├─────┼──────────────┼─────────────────┼───────────────┤\n",
            "│  26 │           47 │             932 │           979 │\n",
            "├─────┼──────────────┼─────────────────┼───────────────┤\n",
            "│  27 │           49 │            1030 │          1079 │\n",
            "├─────┼──────────────┼─────────────────┼───────────────┤\n",
            "│  28 │           51 │            1128 │          1179 │\n",
            "├─────┼──────────────┼─────────────────┼───────────────┤\n",
            "│  29 │           53 │            1236 │          1289 │\n",
            "├─────┼──────────────┼─────────────────┼───────────────┤\n",
            "│  30 │           55 │            1344 │          1399 │\n",
            "├─────┼──────────────┼─────────────────┼───────────────┤\n",
            "│  31 │           57 │            1462 │          1519 │\n",
            "├─────┼──────────────┼─────────────────┼───────────────┤\n",
            "│  32 │           59 │            1580 │          1639 │\n",
            "├─────┼──────────────┼─────────────────┼───────────────┤\n",
            "│  33 │           61 │            1708 │          1769 │\n",
            "├─────┼──────────────┼─────────────────┼───────────────┤\n",
            "│  34 │           63 │            1836 │          1899 │\n",
            "├─────┼──────────────┼─────────────────┼───────────────┤\n",
            "│  35 │           65 │            1976 │          2041 │\n",
            "├─────┼──────────────┼─────────────────┼───────────────┤\n",
            "│  36 │           67 │            2116 │          2183 │\n",
            "├─────┼──────────────┼─────────────────┼───────────────┤\n",
            "│  37 │           69 │            2268 │          2337 │\n",
            "├─────┼──────────────┼─────────────────┼───────────────┤\n",
            "│  38 │           71 │            2420 │          2491 │\n",
            "├─────┼──────────────┼─────────────────┼───────────────┤\n",
            "│  39 │           73 │            2584 │          2657 │\n",
            "├─────┼──────────────┼─────────────────┼───────────────┤\n",
            "│  40 │           75 │            2748 │          2823 │\n",
            "├─────┼──────────────┼─────────────────┼───────────────┤\n",
            "│  41 │           77 │            2924 │          3001 │\n",
            "├─────┼──────────────┼─────────────────┼───────────────┤\n",
            "│  42 │           79 │            3100 │          3179 │\n",
            "├─────┼──────────────┼─────────────────┼───────────────┤\n",
            "│  43 │           81 │            3288 │          3369 │\n",
            "├─────┼──────────────┼─────────────────┼───────────────┤\n",
            "│  44 │           83 │            3476 │          3559 │\n",
            "├─────┼──────────────┼─────────────────┼───────────────┤\n",
            "│  45 │           85 │            3676 │          3761 │\n",
            "├─────┼──────────────┼─────────────────┼───────────────┤\n",
            "│  46 │           87 │            3876 │          3963 │\n",
            "├─────┼──────────────┼─────────────────┼───────────────┤\n",
            "│  47 │           89 │            4088 │          4177 │\n",
            "├─────┼──────────────┼─────────────────┼───────────────┤\n",
            "│  48 │           91 │            4300 │          4391 │\n",
            "├─────┼──────────────┼─────────────────┼───────────────┤\n",
            "│  49 │           93 │            4524 │          4617 │\n",
            "├─────┼──────────────┼─────────────────┼───────────────┤\n",
            "│  50 │           95 │            4748 │          4843 │\n",
            "╘═════╧══════════════╧═════════════════╧═══════════════╛\n"
          ]
        }
      ]
    },
    {
      "cell_type": "code",
      "source": [
        "# obj = ProteinFolding(protein = \"HPHH\")\n",
        "# obj.print_summary()\n",
        "# obj.display_energy_back()\n",
        "# obj.display_energy_overlap()\n",
        "# obj.display_energy_pair()\n",
        "# obj.display_energy_equation()\n",
        "# obj.get_fold()"
      ],
      "metadata": {
        "id": "sSO3MAxTRoc8"
      },
      "execution_count": null,
      "outputs": []
    }
  ]
}