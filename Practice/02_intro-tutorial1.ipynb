{
 "cells": [
  {
   "cell_type": "markdown",
   "id": "afe33937",
   "metadata": {},
   "source": [
    "# Step 1 : Import Packages"
   ]
  },
  {
   "cell_type": "code",
   "execution_count": 1,
   "id": "7cb4c9c7",
   "metadata": {},
   "outputs": [],
   "source": [
    "from qiskit import *\n",
    "from qiskit_aer import AerSimulator\n",
    "from qiskit.visualization import plot_histogram"
   ]
  },
  {
   "cell_type": "markdown",
   "id": "2447aed5",
   "metadata": {},
   "source": [
    "# Step 2 : Initialize Variables"
   ]
  },
  {
   "cell_type": "code",
   "execution_count": 2,
   "id": "d2d9207e",
   "metadata": {},
   "outputs": [],
   "source": [
    "# quantum circuit to make a Bell state\n",
    "qr = QuantumRegister(2)\n",
    "cr = ClassicalRegister(2)\n",
    "qc = QuantumCircuit(qr, cr)"
   ]
  },
  {
   "cell_type": "markdown",
   "id": "eb57d1d7",
   "metadata": {},
   "source": [
    "# Step 3 : Add Gates"
   ]
  },
  {
   "cell_type": "code",
   "execution_count": 3,
   "id": "c27f4bd3",
   "metadata": {},
   "outputs": [
    {
     "data": {
      "text/plain": [
       "<qiskit.circuit.instructionset.InstructionSet at 0x1d2ff85c880>"
      ]
     },
     "execution_count": 3,
     "metadata": {},
     "output_type": "execute_result"
    }
   ],
   "source": [
    "qc.h(qr[0])\n",
    "qc.cx(qr[0], qr[1])"
   ]
  },
  {
   "cell_type": "markdown",
   "id": "5c4f3504",
   "metadata": {},
   "source": [
    "# Step 4 : Visualize the Circuit"
   ]
  },
  {
   "cell_type": "code",
   "execution_count": 4,
   "id": "696b953c",
   "metadata": {},
   "outputs": [
    {
     "data": {
      "image/png": "[encoded data removed]",
      "text/plain": [
       "<Figure size 219.833x204.68 with 1 Axes>"
      ]
     },
     "execution_count": 4,
     "metadata": {},
     "output_type": "execute_result"
    }
   ],
   "source": [
    "#drawing the circuit\n",
    "qc.draw('mpl')"
   ]
  },
  {
   "cell_type": "code",
   "execution_count": 5,
   "id": "f4ee8a35",
   "metadata": {},
   "outputs": [
    {
     "data": {
      "text/latex": [
       "$$\\frac{\\sqrt{2}}{2} |00\\rangle+\\frac{\\sqrt{2}}{2} |11\\rangle$$"
      ],
      "text/plain": [
       "<IPython.core.display.Latex object>"
      ]
     },
     "execution_count": 5,
     "metadata": {},
     "output_type": "execute_result"
    }
   ],
   "source": [
    "from qiskit.quantum_info import Statevector\n",
    "\n",
    "# Set the intial state of the simulator to the ground state using from_int\n",
    "state = Statevector.from_int(0, 2**2)\n",
    "\n",
    "# Evolve the state by the quantum circuit\n",
    "state = state.evolve(qc)\n",
    "\n",
    "#draw using latex\n",
    "state.draw('latex')"
   ]
  },
  {
   "cell_type": "code",
   "execution_count": 6,
   "id": "5613a93e",
   "metadata": {},
   "outputs": [
    {
     "data": {
      "text/plain": [
       "<qiskit.circuit.instructionset.InstructionSet at 0x1d2aeb6e1a0>"
      ]
     },
     "execution_count": 6,
     "metadata": {},
     "output_type": "execute_result"
    }
   ],
   "source": [
    "# measure\n",
    "qc.measure(qr, cr)"
   ]
  },
  {
   "cell_type": "code",
   "execution_count": 7,
   "id": "8376d603",
   "metadata": {},
   "outputs": [
    {
     "data": {
      "image/png": "[encoded data removed]",
      "text/plain": [
       "<Figure size 340.233x204.68 with 1 Axes>"
      ]
     },
     "execution_count": 7,
     "metadata": {},
     "output_type": "execute_result"
    }
   ],
   "source": [
    "qc.draw('mpl')"
   ]
  },
  {
   "cell_type": "markdown",
   "id": "86907187",
   "metadata": {},
   "source": [
    "# Step 5 : Simulate the Experiment"
   ]
  },
  {
   "cell_type": "code",
   "execution_count": 8,
   "id": "47be4c3e",
   "metadata": {},
   "outputs": [],
   "source": [
    "backend = AerSimulator()\n",
    "job = backend.run(qc, shots=1024)\n",
    "result = job.result()"
   ]
  },
  {
   "cell_type": "markdown",
   "id": "6c144a0f",
   "metadata": {},
   "source": [
    "# Step 6 : Visualize the Results"
   ]
  },
  {
   "cell_type": "code",
   "execution_count": 9,
   "id": "01a4ca1a",
   "metadata": {},
   "outputs": [
    {
     "name": "stdout",
     "output_type": "stream",
     "text": [
      "\n",
      "Total count for 00 and 11 are: {'00': 497, '11': 527}\n"
     ]
    }
   ],
   "source": [
    "counts = result.get_counts()\n",
    "print(\"\\nTotal count for 00 and 11 are:\",counts)"
   ]
  },
  {
   "cell_type": "code",
   "execution_count": 10,
   "id": "a65b491b",
   "metadata": {},
   "outputs": [
    {
     "data": {
      "image/png": "[encoded data removed]",
      "text/plain": [
       "<Figure size 504x360 with 1 Axes>"
      ]
     },
     "execution_count": 10,
     "metadata": {},
     "output_type": "execute_result"
    }
   ],
   "source": [
    "plot_histogram(counts)"
   ]
  },
  {
   "cell_type": "code",
   "execution_count": null,
   "id": "b0611584",
   "metadata": {},
   "outputs": [],
   "source": []
  }
 ],
 "metadata": {
  "kernelspec": {
   "display_name": "Python 3 (ipykernel)",
   "language": "python",
   "name": "python3"
  },
  "language_info": {
   "codemirror_mode": {
    "name": "ipython",
    "version": 3
   },
   "file_extension": ".py",
   "mimetype": "text/x-python",
   "name": "python",
   "nbconvert_exporter": "python",
   "pygments_lexer": "ipython3",
   "version": "3.10.6"
  }
 },
 "nbformat": 4,
 "nbformat_minor": 5
}
