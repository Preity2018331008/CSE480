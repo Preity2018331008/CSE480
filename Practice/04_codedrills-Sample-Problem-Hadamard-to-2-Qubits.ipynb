{
 "cells": [
  {
   "cell_type": "markdown",
   "id": "5d5e409f",
   "metadata": {},
   "source": [
    "### [https://codedrills.io/problems/qiskit-hello-world](https://codedrills.io/problems/qiskit-hello-world)"
   ]
  },
  {
   "cell_type": "code",
   "execution_count": 1,
   "id": "5a217f39",
   "metadata": {},
   "outputs": [],
   "source": [
    "from qiskit_aer import AerSimulator\n",
    "from qiskit import *\n",
    "from qiskit.tools.visualization import plot_histogram\n",
    "%matplotlib inline"
   ]
  },
  {
   "cell_type": "code",
   "execution_count": 2,
   "id": "0fc8cb88",
   "metadata": {},
   "outputs": [],
   "source": [
    "qr = QuantumRegister(2)\n",
    "cr = ClassicalRegister(2)\n",
    "qc = QuantumCircuit(qr, cr)"
   ]
  },
  {
   "cell_type": "code",
   "execution_count": 3,
   "id": "18904a14",
   "metadata": {},
   "outputs": [
    {
     "data": {
      "text/plain": [
       "<qiskit.circuit.instructionset.InstructionSet at 0x1a3fff89c30>"
      ]
     },
     "execution_count": 3,
     "metadata": {},
     "output_type": "execute_result"
    }
   ],
   "source": [
    "qc.h(qr[0])\n",
    "qc.h(qr[1])"
   ]
  },
  {
   "cell_type": "code",
   "execution_count": 4,
   "id": "b7999ae8",
   "metadata": {},
   "outputs": [
    {
     "data": {
      "image/png": "[encoded data removed]",
      "text/plain": [
       "<Figure size 159.633x204.68 with 1 Axes>"
      ]
     },
     "execution_count": 4,
     "metadata": {},
     "output_type": "execute_result"
    }
   ],
   "source": [
    "qc.draw(output=\"mpl\")"
   ]
  },
  {
   "cell_type": "code",
   "execution_count": 7,
   "id": "9a09a1aa",
   "metadata": {},
   "outputs": [
    {
     "data": {
      "text/plain": [
       "<qiskit.circuit.instructionset.InstructionSet at 0x1a3db977970>"
      ]
     },
     "execution_count": 7,
     "metadata": {},
     "output_type": "execute_result"
    }
   ],
   "source": [
    "qc.measure(qr, cr)"
   ]
  },
  {
   "cell_type": "code",
   "execution_count": 8,
   "id": "ffc10ae1",
   "metadata": {},
   "outputs": [
    {
     "data": {
      "image/png": "[encoded data removed]",
      "text/plain": [
       "<Figure size 280.033x204.68 with 1 Axes>"
      ]
     },
     "execution_count": 8,
     "metadata": {},
     "output_type": "execute_result"
    }
   ],
   "source": [
    "qc.draw(output=\"mpl\")"
   ]
  },
  {
   "cell_type": "code",
   "execution_count": 9,
   "id": "82d1cd57",
   "metadata": {},
   "outputs": [],
   "source": [
    "backend = AerSimulator()\n",
    "job = backend.run(qc, shots=1024)\n",
    "result = job.result()"
   ]
  },
  {
   "cell_type": "code",
   "execution_count": 10,
   "id": "b4757f7f",
   "metadata": {},
   "outputs": [
    {
     "data": {
      "image/png": "[encoded data removed]",
      "text/plain": [
       "<Figure size 504x360 with 1 Axes>"
      ]
     },
     "execution_count": 10,
     "metadata": {},
     "output_type": "execute_result"
    }
   ],
   "source": [
    "counts = result.get_counts()\n",
    "plot_histogram(counts)"
   ]
  },
  {
   "cell_type": "code",
   "execution_count": 12,
   "id": "94508b6a",
   "metadata": {},
   "outputs": [
    {
     "name": "stdout",
     "output_type": "stream",
     "text": [
      "Statevector([0.5+0.j, 0.5+0.j, 0.5+0.j, 0.5+0.j],\n",
      "            dims=(2, 2))\n",
      "Counts: {'11 00': 247, '10 00': 241, '00 00': 254, '01 00': 282}\n"
     ]
    },
    {
     "data": {
      "image/png": "[encoded data removed]",
      "text/plain": [
       "<Figure size 504x360 with 1 Axes>"
      ]
     },
     "execution_count": 12,
     "metadata": {},
     "output_type": "execute_result"
    }
   ],
   "source": [
    "# Full code\n",
    "\n",
    "\n",
    "from __future__ import annotations\n",
    "\n",
    "import math\n",
    "\n",
    "from qiskit.tools.visualization import plot_histogram\n",
    "from qiskit.quantum_info import Statevector\n",
    "from qiskit import QuantumCircuit, qpy, execute\n",
    "from qiskit_aer import Aer\n",
    "from qiskit import *\n",
    "\n",
    "class QiskitHelloWorld:\n",
    "    \"\"\"\n",
    "    - Assume your qubits start in the 0 state\n",
    "    - Declare a QuantumCircuit of two qubits and apply hadamard gates to each of the qubits\n",
    "    - To grade succesfully, return the QuantumCircuit variable and click on test to check your answer and click submit to confirm your submission!\n",
    "    \"\"\"\n",
    "    def getQuantumCircuit(self, ) -> QuantumCircuit:\n",
    "        ##### Enter your code below! #####\n",
    "        qr = QuantumRegister(2)\n",
    "        cr = ClassicalRegister(2)\n",
    "        qc = QuantumCircuit(qr, cr)\n",
    "        qc.h(qr[0])\n",
    "        qc.h(qr[1])\n",
    "        ##### Enter your code above! #####\n",
    "        return qc\n",
    "\n",
    "\n",
    "# Run this cell to view the output of your quantum circuit as a histogram\n",
    "qc = QiskitHelloWorld().getQuantumCircuit()\n",
    "qc.measure_all()\n",
    "backend = Aer.get_backend('aer_simulator')\n",
    "\n",
    "# Run the circuit and get counts\n",
    "result = backend.run(qc, shots = 1024).result()\n",
    "counts = result.get_counts()\n",
    "\n",
    "# Get statevector from circuit\n",
    "qc = qc.remove_final_measurements(inplace=False)\n",
    "statevector = Statevector.from_instruction(qc)\n",
    "\n",
    "# Print and plot results\n",
    "print(statevector)\n",
    "print(\"Counts:\", counts)\n",
    "plot_histogram(counts)"
   ]
  },
  {
   "cell_type": "code",
   "execution_count": 13,
   "id": "18d76a25",
   "metadata": {},
   "outputs": [],
   "source": [
    "# 1_getting_started_with_qiskit.html"
   ]
  },
  {
   "cell_type": "code",
   "execution_count": null,
   "id": "8e59603d",
   "metadata": {},
   "outputs": [],
   "source": []
  }
 ],
 "metadata": {
  "kernelspec": {
   "display_name": "Python 3 (ipykernel)",
   "language": "python",
   "name": "python3"
  },
  "language_info": {
   "codemirror_mode": {
    "name": "ipython",
    "version": 3
   },
   "file_extension": ".py",
   "mimetype": "text/x-python",
   "name": "python",
   "nbconvert_exporter": "python",
   "pygments_lexer": "ipython3",
   "version": "3.10.6"
  }
 },
 "nbformat": 4,
 "nbformat_minor": 5
}
