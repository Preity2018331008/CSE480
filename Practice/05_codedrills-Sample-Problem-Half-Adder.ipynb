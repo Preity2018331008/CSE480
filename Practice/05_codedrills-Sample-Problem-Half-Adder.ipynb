{
 "cells": [
  {
   "cell_type": "markdown",
   "id": "5d5e409f",
   "metadata": {},
   "source": [
    "### [https://codedrills.io/drills/quantum-problems-practice/problems/creating-a-half-adder-circuit-using-quantum-gates](https://codedrills.io/drills/quantum-problems-practice/problems/creating-a-half-adder-circuit-using-quantum-gates)"
   ]
  },
  {
   "cell_type": "code",
   "execution_count": 1,
   "id": "5a217f39",
   "metadata": {},
   "outputs": [],
   "source": [
    "from __future__ import annotations\n",
    "\n",
    "import math\n",
    "\n",
    "from qiskit import QuantumCircuit, qpy, execute\n",
    "from qiskit.quantum_info import Operator\n",
    "\n",
    "class QiskitHelloWorld:\n",
    "\t\"\"\"\n",
    "\t- Assume your qubits start in the 0 state\n",
    "\t- You have been given a QuantumCircuit of four qubits and two classical bits. Try to recreate the half adder as shown in the truth table above using XOR and AND gate equivalents for QuantumCircuits.\n",
    "\t- To grade succesfully, return the QuantumCircuit variable and click on test to check your answer and click submit to confirm your submission!\n",
    "\t\"\"\"\n",
    "\tdef getHalfAdder(self, ) -> QuantumCircuit:\n",
    "\t\t##### Enter your code below! #####\n",
    "\t\tqc = QuantumCircuit(4,2)\n",
    "\n",
    "\t\t# XOR\n",
    "\t\tqc.cx(0,2)\n",
    "\t\tqc.cx(1,2)\n",
    "\t\t# AND\n",
    "\t\tqc.ccx(0,1,3)\n",
    "\n",
    "\t\t##### Enter your code above! #####\n",
    "\t\tqc.measure(2,0)\n",
    "\t\tqc.measure(3,1)\n",
    "\n",
    "\t\treturn qc"
   ]
  },
  {
   "cell_type": "code",
   "execution_count": null,
   "id": "8e59603d",
   "metadata": {},
   "outputs": [],
   "source": []
  }
 ],
 "metadata": {
  "kernelspec": {
   "display_name": "Python 3 (ipykernel)",
   "language": "python",
   "name": "python3"
  },
  "language_info": {
   "codemirror_mode": {
    "name": "ipython",
    "version": 3
   },
   "file_extension": ".py",
   "mimetype": "text/x-python",
   "name": "python",
   "nbconvert_exporter": "python",
   "pygments_lexer": "ipython3",
   "version": "3.10.6"
  }
 },
 "nbformat": 4,
 "nbformat_minor": 5
}
